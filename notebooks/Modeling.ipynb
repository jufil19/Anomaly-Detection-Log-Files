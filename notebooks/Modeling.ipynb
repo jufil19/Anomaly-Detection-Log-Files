{
 "cells": [
  {
   "cell_type": "code",
   "execution_count": 30,
   "id": "7e7e3698-2deb-4e1b-b589-14881355a744",
   "metadata": {},
   "outputs": [],
   "source": [
    "import sklearn\n",
    "import pandas as pd\n",
    "import numpy as np\n",
    "from sklearn.model_selection import train_test_split, cross_validate, cross_val_score, GridSearchCV\n",
    "from sklearn.ensemble import RandomForestClassifier\n",
    "from sklearn import metrics\n",
    "from xgboost import XGBClassifier"
   ]
  },
  {
   "cell_type": "code",
   "execution_count": 25,
   "id": "c5c7add9-1abf-4cc7-bc8b-0e8815f8a3e0",
   "metadata": {},
   "outputs": [],
   "source": [
    "data = pd.read_csv('eventmatrixlabel.csv')"
   ]
  },
  {
   "cell_type": "code",
   "execution_count": 26,
   "id": "abc00813-fae7-445c-b3f4-32610dc4ae62",
   "metadata": {},
   "outputs": [
    {
     "data": {
      "text/plain": [
       "(575061, 50)"
      ]
     },
     "execution_count": 26,
     "metadata": {},
     "output_type": "execute_result"
    }
   ],
   "source": [
    "data.shape"
   ]
  },
  {
   "cell_type": "code",
   "execution_count": 27,
   "id": "fc35e8ad-3748-47fa-a254-52bc0c708778",
   "metadata": {},
   "outputs": [],
   "source": [
    "# Changing Anomaly = 1, Normal = 0\n",
    "data['Label'] = pd.factorize(data['Label'])[0]"
   ]
  },
  {
   "cell_type": "code",
   "execution_count": 28,
   "id": "4cb9a106-3261-4bbf-bd23-bc83a8b34950",
   "metadata": {},
   "outputs": [
    {
     "data": {
      "text/plain": [
       "2.928"
      ]
     },
     "execution_count": 28,
     "metadata": {},
     "output_type": "execute_result"
    }
   ],
   "source": [
    "# Counting % of anomalies\n",
    "np.round(np.mean(data['Label']),5)*100"
   ]
  },
  {
   "cell_type": "markdown",
   "id": "745941e0-df43-47a3-a19b-85af791a46b8",
   "metadata": {},
   "source": [
    "Only 3% of our rows are Anomaly, we thus have a very unbalanced dataset. In order to take this into account, we must use appropriate metrics to evaluate the performance of our models. "
   ]
  },
  {
   "cell_type": "code",
   "execution_count": 31,
   "id": "cc8960d8-bcf9-4084-a037-447a92f40a0a",
   "metadata": {},
   "outputs": [],
   "source": [
    "# Keep in mind that accuracy will be high even if does not identify anomaly properly (because of unbalanced data)\n",
    "# true: Anomaly, false: Normal\n",
    "\n",
    "# precision : Of those predicted true, proportion that are  true\n",
    "# Recall/Sensitivity : Of actual trues, proportion predicted true\n",
    "# Specificity : Of actual falses, proportion predicted false --> not important to us\n",
    "\n",
    "metrics = {'balanced_accuracy': metrics.make_scorer(metrics.balanced_accuracy_score), \n",
    "           'precision': metrics.make_scorer(metrics.precision_score),\n",
    "          'recall' : metrics.make_scorer(metrics.recall_score),\n",
    "          'f1' : metrics.make_scorer(metrics.f1_score),\n",
    "          'log-loss' : metrics.make_scorer(metrics.log_loss)}"
   ]
  },
  {
   "cell_type": "code",
   "execution_count": 32,
   "id": "0c451964-5bf7-4629-a8e2-b9a194481893",
   "metadata": {},
   "outputs": [],
   "source": [
    "# Splitting the dependent and independent variables\n",
    "y = data[['Label']]\n",
    "x = data.drop(['Label', 'BlockId'], axis=1)"
   ]
  },
  {
   "cell_type": "code",
   "execution_count": 33,
   "id": "c469f72c-8c1b-49ec-be97-01564396fe70",
   "metadata": {},
   "outputs": [
    {
     "data": {
      "text/plain": [
       "575061"
      ]
     },
     "execution_count": 33,
     "metadata": {},
     "output_type": "execute_result"
    }
   ],
   "source": [
    "len(x)"
   ]
  },
  {
   "cell_type": "code",
   "execution_count": 37,
   "id": "e92bf7cf-5bb6-48b3-8054-4b6be7f82501",
   "metadata": {},
   "outputs": [],
   "source": [
    "# Splitting data into training and testing set\n",
    "x_train, x_test, y_train, y_test = train_test_split(x, y, test_size=0.2, random_state = 2021)"
   ]
  },
  {
   "cell_type": "code",
   "execution_count": 38,
   "id": "702e582d-cb07-43b6-9aee-56c67a5cd11b",
   "metadata": {},
   "outputs": [
    {
     "name": "stdout",
     "output_type": "stream",
     "text": [
      "% of anomalies in training set: 2.934\n",
      "% of anomalies in testing set: 2.906\n"
     ]
    }
   ],
   "source": [
    "print(f\"% of anomalies in training set: {np.round(np.mean(y_train['Label'])*100,3)}\")\n",
    "print(f\"% of anomalies in testing set: {np.round(np.mean(y_test['Label'])*100,3)}\")"
   ]
  },
  {
   "cell_type": "code",
   "execution_count": 39,
   "id": "bf9aca5c-6186-4ac5-bf6f-69768d31d282",
   "metadata": {},
   "outputs": [],
   "source": [
    "y_train = np.ravel(y_train)"
   ]
  },
  {
   "cell_type": "markdown",
   "id": "58cff19f-bcd7-4ff2-854d-8aff55a79abb",
   "metadata": {},
   "source": [
    "# Random Forests"
   ]
  },
  {
   "cell_type": "markdown",
   "id": "e6d56785-2235-4a14-9c34-a7ba75eaee46",
   "metadata": {},
   "source": [
    "### Default Random Forest"
   ]
  },
  {
   "cell_type": "code",
   "execution_count": 10,
   "id": "56c71d48-4d89-45cd-b765-a09a949d45b1",
   "metadata": {},
   "outputs": [],
   "source": [
    "# Lets fit a rf with default parameters\n",
    "rf_default = RandomForestClassifier(random_state = 2021)"
   ]
  },
  {
   "cell_type": "code",
   "execution_count": 50,
   "id": "87111732-627c-45d6-9afc-605c19c4fb09",
   "metadata": {},
   "outputs": [
    {
     "name": "stderr",
     "output_type": "stream",
     "text": [
      "[Parallel(n_jobs=-1)]: Using backend LokyBackend with 16 concurrent workers.\n",
      "[Parallel(n_jobs=-1)]: Done   5 out of   5 | elapsed:   19.2s finished\n"
     ]
    }
   ],
   "source": [
    "# Define evaluation procedure\n",
    "cv_rf_default = cross_validate(rf_default, X = x_train, y = y_train,scoring = metrics, n_jobs = -1, cv = 5, verbose = 1)"
   ]
  },
  {
   "cell_type": "code",
   "execution_count": 51,
   "id": "561c7a3e-bb9b-45ad-ba6b-0c9c9819e005",
   "metadata": {},
   "outputs": [
    {
     "data": {
      "text/html": [
       "<div>\n",
       "<style scoped>\n",
       "    .dataframe tbody tr th:only-of-type {\n",
       "        vertical-align: middle;\n",
       "    }\n",
       "\n",
       "    .dataframe tbody tr th {\n",
       "        vertical-align: top;\n",
       "    }\n",
       "\n",
       "    .dataframe thead th {\n",
       "        text-align: right;\n",
       "    }\n",
       "</style>\n",
       "<table border=\"1\" class=\"dataframe\">\n",
       "  <thead>\n",
       "    <tr style=\"text-align: right;\">\n",
       "      <th></th>\n",
       "      <th>fit_time</th>\n",
       "      <th>score_time</th>\n",
       "      <th>test_balanced_accuracy</th>\n",
       "      <th>test_precision</th>\n",
       "      <th>test_recall</th>\n",
       "      <th>test_f1</th>\n",
       "      <th>test_log-loss</th>\n",
       "    </tr>\n",
       "  </thead>\n",
       "  <tbody>\n",
       "    <tr>\n",
       "      <th>Fold_1</th>\n",
       "      <td>16.934275</td>\n",
       "      <td>0.712536</td>\n",
       "      <td>0.998658</td>\n",
       "      <td>0.997037</td>\n",
       "      <td>0.997406</td>\n",
       "      <td>0.997222</td>\n",
       "      <td>0.005631</td>\n",
       "    </tr>\n",
       "    <tr>\n",
       "      <th>Fold_2</th>\n",
       "      <td>17.301031</td>\n",
       "      <td>0.661962</td>\n",
       "      <td>0.999371</td>\n",
       "      <td>0.995201</td>\n",
       "      <td>0.998888</td>\n",
       "      <td>0.997041</td>\n",
       "      <td>0.006006</td>\n",
       "    </tr>\n",
       "    <tr>\n",
       "      <th>Fold_3</th>\n",
       "      <td>16.779449</td>\n",
       "      <td>0.739297</td>\n",
       "      <td>0.999764</td>\n",
       "      <td>0.996677</td>\n",
       "      <td>0.999630</td>\n",
       "      <td>0.998151</td>\n",
       "      <td>0.003754</td>\n",
       "    </tr>\n",
       "    <tr>\n",
       "      <th>Fold_4</th>\n",
       "      <td>16.801463</td>\n",
       "      <td>0.740284</td>\n",
       "      <td>0.999225</td>\n",
       "      <td>0.997779</td>\n",
       "      <td>0.998518</td>\n",
       "      <td>0.998148</td>\n",
       "      <td>0.003754</td>\n",
       "    </tr>\n",
       "    <tr>\n",
       "      <th>Fold_5</th>\n",
       "      <td>17.118866</td>\n",
       "      <td>0.686632</td>\n",
       "      <td>0.999809</td>\n",
       "      <td>0.999629</td>\n",
       "      <td>0.999629</td>\n",
       "      <td>0.999629</td>\n",
       "      <td>0.000751</td>\n",
       "    </tr>\n",
       "  </tbody>\n",
       "</table>\n",
       "</div>"
      ],
      "text/plain": [
       "         fit_time  score_time  test_balanced_accuracy  test_precision  \\\n",
       "Fold_1  16.934275    0.712536                0.998658        0.997037   \n",
       "Fold_2  17.301031    0.661962                0.999371        0.995201   \n",
       "Fold_3  16.779449    0.739297                0.999764        0.996677   \n",
       "Fold_4  16.801463    0.740284                0.999225        0.997779   \n",
       "Fold_5  17.118866    0.686632                0.999809        0.999629   \n",
       "\n",
       "        test_recall   test_f1  test_log-loss  \n",
       "Fold_1     0.997406  0.997222       0.005631  \n",
       "Fold_2     0.998888  0.997041       0.006006  \n",
       "Fold_3     0.999630  0.998151       0.003754  \n",
       "Fold_4     0.998518  0.998148       0.003754  \n",
       "Fold_5     0.999629  0.999629       0.000751  "
      ]
     },
     "execution_count": 51,
     "metadata": {},
     "output_type": "execute_result"
    }
   ],
   "source": [
    "pd.DataFrame.from_dict(cv_rf_default).set_axis(['Fold_1', 'Fold_2', 'Fold_3', 'Fold_4', 'Fold_5'], axis=0)"
   ]
  },
  {
   "cell_type": "code",
   "execution_count": 52,
   "id": "6d703db7-ddf4-4e57-abd4-8527e1a4b9c7",
   "metadata": {},
   "outputs": [
    {
     "data": {
      "text/html": [
       "<div>\n",
       "<style scoped>\n",
       "    .dataframe tbody tr th:only-of-type {\n",
       "        vertical-align: middle;\n",
       "    }\n",
       "\n",
       "    .dataframe tbody tr th {\n",
       "        vertical-align: top;\n",
       "    }\n",
       "\n",
       "    .dataframe thead th {\n",
       "        text-align: right;\n",
       "    }\n",
       "</style>\n",
       "<table border=\"1\" class=\"dataframe\">\n",
       "  <thead>\n",
       "    <tr style=\"text-align: right;\">\n",
       "      <th></th>\n",
       "      <th>Avg Fit Time</th>\n",
       "      <th>Avg Score Time</th>\n",
       "      <th>5-Fold Balanced Accuracy</th>\n",
       "      <th>5-Fold Precision</th>\n",
       "      <th>5-Fold Recall</th>\n",
       "      <th>5-Fold F1</th>\n",
       "      <th>5-Fold Log Loss</th>\n",
       "    </tr>\n",
       "  </thead>\n",
       "  <tbody>\n",
       "    <tr>\n",
       "      <th>Random Forest</th>\n",
       "      <td>16.987017</td>\n",
       "      <td>0.708142</td>\n",
       "      <td>0.999366</td>\n",
       "      <td>0.997265</td>\n",
       "      <td>0.998814</td>\n",
       "      <td>0.998038</td>\n",
       "      <td>0.003979</td>\n",
       "    </tr>\n",
       "  </tbody>\n",
       "</table>\n",
       "</div>"
      ],
      "text/plain": [
       "               Avg Fit Time  Avg Score Time  5-Fold Balanced Accuracy  \\\n",
       "Random Forest     16.987017        0.708142                  0.999366   \n",
       "\n",
       "               5-Fold Precision  5-Fold Recall  5-Fold F1  5-Fold Log Loss  \n",
       "Random Forest          0.997265       0.998814   0.998038         0.003979  "
      ]
     },
     "execution_count": 52,
     "metadata": {},
     "output_type": "execute_result"
    }
   ],
   "source": [
    "# Average of all folds\n",
    "metrics_rf_default = pd.DataFrame.from_dict(cv_rf_default).set_axis(['Fold_1', 'Fold_2', 'Fold_3', 'Fold_4', 'Fold_5'], axis=0).mean(axis = 0)\n",
    "metrics_rf_default = pd.DataFrame(metrics_rf_default).set_axis(['Avg Fit Time', 'Avg Score Time', '5-Fold Balanced Accuracy', '5-Fold Precision', '5-Fold Recall', '5-Fold F1', '5-Fold Log Loss'], axis = 0).T.set_axis(['Random Forest'])\n",
    "metrics_rf_default"
   ]
  },
  {
   "cell_type": "markdown",
   "id": "e050edd3-5724-495d-a4af-012cb58684b2",
   "metadata": {},
   "source": [
    "### Random Forest with Bootstrap Class Weighting"
   ]
  },
  {
   "cell_type": "code",
   "execution_count": 56,
   "id": "8e96aa32-2601-4f83-92c2-22437dca1596",
   "metadata": {},
   "outputs": [],
   "source": [
    "# Lets place a heavier penalty on misclassifying the minority class - Anomaly, using Random Forest With Bootstrap Class Weighting\n",
    "rf = RandomForestClassifier(n_estimators = 100, class_weight='balanced_subsample', random_state = 2021)"
   ]
  },
  {
   "cell_type": "code",
   "execution_count": 57,
   "id": "d0e3eeb5-b3e4-4a25-ac68-57d160e38201",
   "metadata": {},
   "outputs": [
    {
     "name": "stderr",
     "output_type": "stream",
     "text": [
      "[Parallel(n_jobs=-1)]: Using backend LokyBackend with 16 concurrent workers.\n",
      "[Parallel(n_jobs=-1)]: Done   5 out of   5 | elapsed:   24.4s finished\n"
     ]
    }
   ],
   "source": [
    "# Define evaluation procedure\n",
    "cv_rf = cross_validate(rf, X = x_train, y = y_train,scoring = metrics, n_jobs = -1, cv = 5, verbose = 1)"
   ]
  },
  {
   "cell_type": "code",
   "execution_count": 58,
   "id": "d6b6dee0-60ad-4d24-a9de-cd28e19383ad",
   "metadata": {},
   "outputs": [
    {
     "data": {
      "text/html": [
       "<div>\n",
       "<style scoped>\n",
       "    .dataframe tbody tr th:only-of-type {\n",
       "        vertical-align: middle;\n",
       "    }\n",
       "\n",
       "    .dataframe tbody tr th {\n",
       "        vertical-align: top;\n",
       "    }\n",
       "\n",
       "    .dataframe thead th {\n",
       "        text-align: right;\n",
       "    }\n",
       "</style>\n",
       "<table border=\"1\" class=\"dataframe\">\n",
       "  <thead>\n",
       "    <tr style=\"text-align: right;\">\n",
       "      <th></th>\n",
       "      <th>fit_time</th>\n",
       "      <th>score_time</th>\n",
       "      <th>test_balanced_accuracy</th>\n",
       "      <th>test_precision</th>\n",
       "      <th>test_recall</th>\n",
       "      <th>test_f1</th>\n",
       "      <th>test_log-loss</th>\n",
       "    </tr>\n",
       "  </thead>\n",
       "  <tbody>\n",
       "    <tr>\n",
       "      <th>Fold_1</th>\n",
       "      <td>22.635645</td>\n",
       "      <td>0.730291</td>\n",
       "      <td>0.998658</td>\n",
       "      <td>0.997037</td>\n",
       "      <td>0.997406</td>\n",
       "      <td>0.997222</td>\n",
       "      <td>0.005631</td>\n",
       "    </tr>\n",
       "    <tr>\n",
       "      <th>Fold_2</th>\n",
       "      <td>22.745514</td>\n",
       "      <td>0.723727</td>\n",
       "      <td>0.999371</td>\n",
       "      <td>0.995201</td>\n",
       "      <td>0.998888</td>\n",
       "      <td>0.997041</td>\n",
       "      <td>0.006006</td>\n",
       "    </tr>\n",
       "    <tr>\n",
       "      <th>Fold_3</th>\n",
       "      <td>22.804771</td>\n",
       "      <td>0.725111</td>\n",
       "      <td>0.999955</td>\n",
       "      <td>0.997046</td>\n",
       "      <td>1.000000</td>\n",
       "      <td>0.998521</td>\n",
       "      <td>0.003003</td>\n",
       "    </tr>\n",
       "    <tr>\n",
       "      <th>Fold_4</th>\n",
       "      <td>22.771705</td>\n",
       "      <td>0.719185</td>\n",
       "      <td>0.999405</td>\n",
       "      <td>0.997410</td>\n",
       "      <td>0.998888</td>\n",
       "      <td>0.998149</td>\n",
       "      <td>0.003754</td>\n",
       "    </tr>\n",
       "    <tr>\n",
       "      <th>Fold_5</th>\n",
       "      <td>22.617647</td>\n",
       "      <td>0.744289</td>\n",
       "      <td>0.999809</td>\n",
       "      <td>0.999629</td>\n",
       "      <td>0.999629</td>\n",
       "      <td>0.999629</td>\n",
       "      <td>0.000751</td>\n",
       "    </tr>\n",
       "  </tbody>\n",
       "</table>\n",
       "</div>"
      ],
      "text/plain": [
       "         fit_time  score_time  test_balanced_accuracy  test_precision  \\\n",
       "Fold_1  22.635645    0.730291                0.998658        0.997037   \n",
       "Fold_2  22.745514    0.723727                0.999371        0.995201   \n",
       "Fold_3  22.804771    0.725111                0.999955        0.997046   \n",
       "Fold_4  22.771705    0.719185                0.999405        0.997410   \n",
       "Fold_5  22.617647    0.744289                0.999809        0.999629   \n",
       "\n",
       "        test_recall   test_f1  test_log-loss  \n",
       "Fold_1     0.997406  0.997222       0.005631  \n",
       "Fold_2     0.998888  0.997041       0.006006  \n",
       "Fold_3     1.000000  0.998521       0.003003  \n",
       "Fold_4     0.998888  0.998149       0.003754  \n",
       "Fold_5     0.999629  0.999629       0.000751  "
      ]
     },
     "execution_count": 58,
     "metadata": {},
     "output_type": "execute_result"
    }
   ],
   "source": [
    "pd.DataFrame.from_dict(cv_rf).set_axis(['Fold_1', 'Fold_2', 'Fold_3', 'Fold_4', 'Fold_5'], axis=0)"
   ]
  },
  {
   "cell_type": "code",
   "execution_count": 59,
   "id": "eacb78c6-faf9-484b-9ec2-83051d121a22",
   "metadata": {},
   "outputs": [
    {
     "data": {
      "text/html": [
       "<div>\n",
       "<style scoped>\n",
       "    .dataframe tbody tr th:only-of-type {\n",
       "        vertical-align: middle;\n",
       "    }\n",
       "\n",
       "    .dataframe tbody tr th {\n",
       "        vertical-align: top;\n",
       "    }\n",
       "\n",
       "    .dataframe thead th {\n",
       "        text-align: right;\n",
       "    }\n",
       "</style>\n",
       "<table border=\"1\" class=\"dataframe\">\n",
       "  <thead>\n",
       "    <tr style=\"text-align: right;\">\n",
       "      <th></th>\n",
       "      <th>Avg Fit Time</th>\n",
       "      <th>Avg Score Time</th>\n",
       "      <th>5-Fold Balanced Accuracy</th>\n",
       "      <th>5-Fold Precision</th>\n",
       "      <th>5-Fold Recall</th>\n",
       "      <th>5-Fold F1</th>\n",
       "      <th>5-Fold Log Loss</th>\n",
       "    </tr>\n",
       "  </thead>\n",
       "  <tbody>\n",
       "    <tr>\n",
       "      <th>Random Forest Bootstrap Class Weighting</th>\n",
       "      <td>22.715056</td>\n",
       "      <td>0.72852</td>\n",
       "      <td>0.99944</td>\n",
       "      <td>0.997265</td>\n",
       "      <td>0.998963</td>\n",
       "      <td>0.998112</td>\n",
       "      <td>0.003829</td>\n",
       "    </tr>\n",
       "  </tbody>\n",
       "</table>\n",
       "</div>"
      ],
      "text/plain": [
       "                                         Avg Fit Time  Avg Score Time  \\\n",
       "Random Forest Bootstrap Class Weighting     22.715056         0.72852   \n",
       "\n",
       "                                         5-Fold Balanced Accuracy  \\\n",
       "Random Forest Bootstrap Class Weighting                   0.99944   \n",
       "\n",
       "                                         5-Fold Precision  5-Fold Recall  \\\n",
       "Random Forest Bootstrap Class Weighting          0.997265       0.998963   \n",
       "\n",
       "                                         5-Fold F1  5-Fold Log Loss  \n",
       "Random Forest Bootstrap Class Weighting   0.998112         0.003829  "
      ]
     },
     "execution_count": 59,
     "metadata": {},
     "output_type": "execute_result"
    }
   ],
   "source": [
    "# Average of all folds\n",
    "metrics_rf_bootstrap = pd.DataFrame.from_dict(cv_rf).set_axis(['Fold_1', 'Fold_2', 'Fold_3', 'Fold_4', 'Fold_5'], axis=0).mean(axis = 0)\n",
    "metrics_rf_bootstrap = pd.DataFrame(metrics_rf_bootstrap).set_axis(['Avg Fit Time', 'Avg Score Time', '5-Fold Balanced Accuracy', '5-Fold Precision', '5-Fold Recall', '5-Fold F1', '5-Fold Log Loss'], axis = 0).T.set_axis(['Random Forest Bootstrap Class Weighting'])\n",
    "metrics_rf_bootstrap"
   ]
  },
  {
   "cell_type": "markdown",
   "id": "b84c556e-d5d7-40df-a4cf-f738f2dfec23",
   "metadata": {},
   "source": [
    "### Random Forest Grid Search"
   ]
  },
  {
   "cell_type": "code",
   "execution_count": 40,
   "id": "0ebed43e-cfb3-4682-b482-0b9917b4cd37",
   "metadata": {},
   "outputs": [],
   "source": [
    "# Create the random grid\n",
    "param_grid = {'n_estimators': [int(x) for x in np.linspace(start = 50, stop = 200, num = 4)], # Number of trees in random forest\n",
    "               'max_features': ['auto', 'sqrt', 'log2'], # Number of features to consider at every split\n",
    "               'min_samples_split': [2, 5, 10, 20], # Minimum number of samples required to split a node\n",
    "               'class_weight': ['balanced_subsample', 'balanced', None]} # Weights associated with classes. \n",
    "\n",
    "rf_grid = GridSearchCV(estimator = rf_default, \n",
    "                               param_grid = param_grid,  \n",
    "                               cv = 3, \n",
    "                               scoring = 'f1',\n",
    "                               verbose = 2,  \n",
    "                               n_jobs = -1)"
   ]
  },
  {
   "cell_type": "code",
   "execution_count": 41,
   "id": "ef2c57da-1280-428d-9b90-1b594c2b3320",
   "metadata": {},
   "outputs": [
    {
     "name": "stdout",
     "output_type": "stream",
     "text": [
      "Fitting 3 folds for each of 144 candidates, totalling 432 fits\n"
     ]
    },
    {
     "data": {
      "text/plain": [
       "GridSearchCV(cv=3, estimator=RandomForestClassifier(random_state=2021),\n",
       "             n_jobs=-1,\n",
       "             param_grid={'class_weight': ['balanced_subsample', 'balanced',\n",
       "                                          None],\n",
       "                         'max_features': ['auto', 'sqrt', 'log2'],\n",
       "                         'min_samples_split': [2, 5, 10, 20],\n",
       "                         'n_estimators': [50, 100, 150, 200]},\n",
       "             scoring='f1', verbose=2)"
      ]
     },
     "execution_count": 41,
     "metadata": {},
     "output_type": "execute_result"
    }
   ],
   "source": [
    "# Fit the random search model\n",
    "rf_grid.fit(x_train, y_train)"
   ]
  },
  {
   "cell_type": "code",
   "execution_count": 43,
   "id": "74e35c1e-7688-4d1d-851c-5c3857c79635",
   "metadata": {},
   "outputs": [
    {
     "data": {
      "text/plain": [
       "{'class_weight': None,\n",
       " 'max_features': 'log2',\n",
       " 'min_samples_split': 20,\n",
       " 'n_estimators': 100}"
      ]
     },
     "execution_count": 43,
     "metadata": {},
     "output_type": "execute_result"
    }
   ],
   "source": [
    "rf_grid.best_params_"
   ]
  },
  {
   "cell_type": "markdown",
   "id": "485469d4-d3a7-4fe9-b3a2-0cab189cf579",
   "metadata": {},
   "source": [
    "We obtain a `min_samples_split` of 20, which is the highest number of split in our grid. Maybe this means that a higher number of min_samples_split would perform better. Lets adjust our grid accordingly."
   ]
  },
  {
   "cell_type": "code",
   "execution_count": 44,
   "id": "48a100fb-2925-40dd-a86f-ef30ef8ca5b6",
   "metadata": {},
   "outputs": [],
   "source": [
    "# Adjusting grid search\n",
    "param_grid_adj = {'n_estimators': [100, 200], # Number of trees in random forest\n",
    "               'max_features': ['auto', 'sqrt', 'log2'], # Number of features to consider at every split\n",
    "               'min_samples_split': [5, 10, 20, 30, 50], # Minimum number of samples required to split a node\n",
    "               'class_weight': ['balanced_subsample', 'balanced', None]} # Weights associated with classes. \n",
    "\n",
    "rf_grid_adj = GridSearchCV(estimator = rf_default, \n",
    "                               param_grid = param_grid,  \n",
    "                               cv = 3, \n",
    "                               scoring = 'f1',\n",
    "                               verbose = 2,  \n",
    "                               n_jobs = -1)"
   ]
  },
  {
   "cell_type": "code",
   "execution_count": 46,
   "id": "4af1e45e-d069-46b4-81d0-adb75cdc7d1e",
   "metadata": {},
   "outputs": [
    {
     "name": "stdout",
     "output_type": "stream",
     "text": [
      "Fitting 3 folds for each of 144 candidates, totalling 432 fits\n"
     ]
    },
    {
     "data": {
      "text/plain": [
       "GridSearchCV(cv=3, estimator=RandomForestClassifier(random_state=2021),\n",
       "             n_jobs=-1,\n",
       "             param_grid={'class_weight': ['balanced_subsample', 'balanced',\n",
       "                                          None],\n",
       "                         'max_features': ['auto', 'sqrt', 'log2'],\n",
       "                         'min_samples_split': [2, 5, 10, 20],\n",
       "                         'n_estimators': [50, 100, 150, 200]},\n",
       "             scoring='f1', verbose=2)"
      ]
     },
     "execution_count": 46,
     "metadata": {},
     "output_type": "execute_result"
    }
   ],
   "source": [
    "# Fit the random search model\n",
    "rf_grid_adj.fit(x_train, y_train)"
   ]
  },
  {
   "cell_type": "code",
   "execution_count": 60,
   "id": "d94606c0-6f2c-4c49-9111-f874a73fb459",
   "metadata": {},
   "outputs": [
    {
     "data": {
      "text/plain": [
       "{'class_weight': None,\n",
       " 'max_features': 'log2',\n",
       " 'min_samples_split': 20,\n",
       " 'n_estimators': 100}"
      ]
     },
     "execution_count": 60,
     "metadata": {},
     "output_type": "execute_result"
    }
   ],
   "source": [
    "rf_grid_adj.best_params_"
   ]
  },
  {
   "cell_type": "markdown",
   "id": "2cd129a5-28f3-4fd4-bc04-c6fc43bb630a",
   "metadata": {},
   "source": [
    "With the adjusted parameter grid, we obtain the same parameters. Lets fit our model with these parameters."
   ]
  },
  {
   "cell_type": "code",
   "execution_count": 61,
   "id": "50786c5b-0429-49bb-9b70-72455d037873",
   "metadata": {},
   "outputs": [
    {
     "name": "stderr",
     "output_type": "stream",
     "text": [
      "[Parallel(n_jobs=-1)]: Using backend LokyBackend with 16 concurrent workers.\n",
      "[Parallel(n_jobs=-1)]: Done   5 out of   5 | elapsed:   18.3s finished\n"
     ]
    }
   ],
   "source": [
    "rf_adj = RandomForestClassifier(n_estimators = 100, class_weight = None, max_features = 'log2', min_samples_split = 20, random_state = 2021)\n",
    "cv_rf_adj = cross_validate(rf_adj, X = x_train, y = y_train, scoring = metrics, n_jobs = -1, cv = 5, verbose = 1)"
   ]
  },
  {
   "cell_type": "code",
   "execution_count": 62,
   "id": "67cc5ff6-e25e-4390-bdab-c23e419cca55",
   "metadata": {},
   "outputs": [],
   "source": [
    "rf_adj.fit(x_train, y_train)\n",
    "importances = rf_adj.feature_importances_"
   ]
  },
  {
   "cell_type": "code",
   "execution_count": 31,
   "id": "194aa443-1fb7-4f49-94ba-34734bd05e85",
   "metadata": {},
   "outputs": [
    {
     "data": {
      "text/html": [
       "<div>\n",
       "<style scoped>\n",
       "    .dataframe tbody tr th:only-of-type {\n",
       "        vertical-align: middle;\n",
       "    }\n",
       "\n",
       "    .dataframe tbody tr th {\n",
       "        vertical-align: top;\n",
       "    }\n",
       "\n",
       "    .dataframe thead th {\n",
       "        text-align: right;\n",
       "    }\n",
       "</style>\n",
       "<table border=\"1\" class=\"dataframe\">\n",
       "  <thead>\n",
       "    <tr style=\"text-align: right;\">\n",
       "      <th></th>\n",
       "      <th>fit_time</th>\n",
       "      <th>score_time</th>\n",
       "      <th>test_balanced_accuracy</th>\n",
       "      <th>test_precision</th>\n",
       "      <th>test_recall</th>\n",
       "      <th>test_f1</th>\n",
       "      <th>test_log-loss</th>\n",
       "    </tr>\n",
       "  </thead>\n",
       "  <tbody>\n",
       "    <tr>\n",
       "      <th>Fold_1</th>\n",
       "      <td>20.456935</td>\n",
       "      <td>0.816421</td>\n",
       "      <td>0.998473</td>\n",
       "      <td>0.997036</td>\n",
       "      <td>0.997036</td>\n",
       "      <td>0.997036</td>\n",
       "      <td>0.006006</td>\n",
       "    </tr>\n",
       "    <tr>\n",
       "      <th>Fold_2</th>\n",
       "      <td>20.193654</td>\n",
       "      <td>0.890186</td>\n",
       "      <td>0.999557</td>\n",
       "      <td>0.995203</td>\n",
       "      <td>0.999259</td>\n",
       "      <td>0.997227</td>\n",
       "      <td>0.005631</td>\n",
       "    </tr>\n",
       "    <tr>\n",
       "      <th>Fold_3</th>\n",
       "      <td>20.815618</td>\n",
       "      <td>0.748269</td>\n",
       "      <td>0.999764</td>\n",
       "      <td>0.996677</td>\n",
       "      <td>0.999630</td>\n",
       "      <td>0.998151</td>\n",
       "      <td>0.003754</td>\n",
       "    </tr>\n",
       "    <tr>\n",
       "      <th>Fold_4</th>\n",
       "      <td>20.750161</td>\n",
       "      <td>0.759725</td>\n",
       "      <td>0.999781</td>\n",
       "      <td>0.997781</td>\n",
       "      <td>0.999629</td>\n",
       "      <td>0.998704</td>\n",
       "      <td>0.002628</td>\n",
       "    </tr>\n",
       "    <tr>\n",
       "      <th>Fold_5</th>\n",
       "      <td>20.345312</td>\n",
       "      <td>0.822366</td>\n",
       "      <td>0.999809</td>\n",
       "      <td>0.999629</td>\n",
       "      <td>0.999629</td>\n",
       "      <td>0.999629</td>\n",
       "      <td>0.000751</td>\n",
       "    </tr>\n",
       "  </tbody>\n",
       "</table>\n",
       "</div>"
      ],
      "text/plain": [
       "         fit_time  score_time  test_balanced_accuracy  test_precision  \\\n",
       "Fold_1  20.456935    0.816421                0.998473        0.997036   \n",
       "Fold_2  20.193654    0.890186                0.999557        0.995203   \n",
       "Fold_3  20.815618    0.748269                0.999764        0.996677   \n",
       "Fold_4  20.750161    0.759725                0.999781        0.997781   \n",
       "Fold_5  20.345312    0.822366                0.999809        0.999629   \n",
       "\n",
       "        test_recall   test_f1  test_log-loss  \n",
       "Fold_1     0.997036  0.997036       0.006006  \n",
       "Fold_2     0.999259  0.997227       0.005631  \n",
       "Fold_3     0.999630  0.998151       0.003754  \n",
       "Fold_4     0.999629  0.998704       0.002628  \n",
       "Fold_5     0.999629  0.999629       0.000751  "
      ]
     },
     "execution_count": 31,
     "metadata": {},
     "output_type": "execute_result"
    }
   ],
   "source": [
    "pd.DataFrame.from_dict(cv_rf_adj).set_axis(['Fold_1', 'Fold_2', 'Fold_3', 'Fold_4', 'Fold_5'], axis=0)"
   ]
  },
  {
   "cell_type": "code",
   "execution_count": 64,
   "id": "7772bb32-1bc4-43f8-9ce5-2a376aeae983",
   "metadata": {},
   "outputs": [
    {
     "data": {
      "text/html": [
       "<div>\n",
       "<style scoped>\n",
       "    .dataframe tbody tr th:only-of-type {\n",
       "        vertical-align: middle;\n",
       "    }\n",
       "\n",
       "    .dataframe tbody tr th {\n",
       "        vertical-align: top;\n",
       "    }\n",
       "\n",
       "    .dataframe thead th {\n",
       "        text-align: right;\n",
       "    }\n",
       "</style>\n",
       "<table border=\"1\" class=\"dataframe\">\n",
       "  <thead>\n",
       "    <tr style=\"text-align: right;\">\n",
       "      <th></th>\n",
       "      <th>Avg Fit Time</th>\n",
       "      <th>Avg Score Time</th>\n",
       "      <th>5-Fold Balanced Accuracy</th>\n",
       "      <th>5-Fold Precision</th>\n",
       "      <th>5-Fold Recall</th>\n",
       "      <th>5-Fold F1</th>\n",
       "      <th>5-Fold Log Loss</th>\n",
       "    </tr>\n",
       "  </thead>\n",
       "  <tbody>\n",
       "    <tr>\n",
       "      <th>Random Forest Tuned</th>\n",
       "      <td>16.501245</td>\n",
       "      <td>0.75664</td>\n",
       "      <td>0.999477</td>\n",
       "      <td>0.997265</td>\n",
       "      <td>0.999037</td>\n",
       "      <td>0.99815</td>\n",
       "      <td>0.003754</td>\n",
       "    </tr>\n",
       "  </tbody>\n",
       "</table>\n",
       "</div>"
      ],
      "text/plain": [
       "                     Avg Fit Time  Avg Score Time  5-Fold Balanced Accuracy  \\\n",
       "Random Forest Tuned     16.501245         0.75664                  0.999477   \n",
       "\n",
       "                     5-Fold Precision  5-Fold Recall  5-Fold F1  \\\n",
       "Random Forest Tuned          0.997265       0.999037    0.99815   \n",
       "\n",
       "                     5-Fold Log Loss  \n",
       "Random Forest Tuned         0.003754  "
      ]
     },
     "execution_count": 64,
     "metadata": {},
     "output_type": "execute_result"
    }
   ],
   "source": [
    "# Average of all folds\n",
    "metrics_rf_tuned = pd.DataFrame.from_dict(cv_rf_adj).set_axis(['Fold_1', 'Fold_2', 'Fold_3', 'Fold_4', 'Fold_5'], axis=0).mean(axis = 0)\n",
    "metrics_rf_tuned = pd.DataFrame(metrics_rf_tuned).set_axis(['Avg Fit Time', 'Avg Score Time', '5-Fold Balanced Accuracy', '5-Fold Precision', '5-Fold Recall', '5-Fold F1', '5-Fold Log Loss'], axis = 0).T.set_axis(['Random Forest Tuned'])\n",
    "metrics_rf_tuned"
   ]
  },
  {
   "cell_type": "markdown",
   "id": "b360957c-f70c-4dbe-9308-5378bd5c77bd",
   "metadata": {},
   "source": [
    "# Gradient Boosting"
   ]
  },
  {
   "cell_type": "markdown",
   "id": "fc206fe8-1a32-4abe-94c9-6fa7be8477d2",
   "metadata": {},
   "source": [
    "### Default XGBoost"
   ]
  },
  {
   "cell_type": "code",
   "execution_count": 74,
   "id": "5999273b-dd5f-4740-a317-eb739c70c204",
   "metadata": {},
   "outputs": [
    {
     "name": "stderr",
     "output_type": "stream",
     "text": [
      "[Parallel(n_jobs=-1)]: Using backend LokyBackend with 16 concurrent workers.\n",
      "[Parallel(n_jobs=-1)]: Done   5 out of   5 | elapsed:   55.2s finished\n"
     ]
    }
   ],
   "source": [
    "xgboost_default = XGBClassifier()\n",
    "cv_xgboost_default = cross_validate(xgboost_default, X = x_train, y = y_train,scoring = metrics, n_jobs = -1, cv = 5, verbose = 1)"
   ]
  },
  {
   "cell_type": "code",
   "execution_count": 75,
   "id": "e07ead22-e236-437a-bd03-1cea96c037cb",
   "metadata": {},
   "outputs": [
    {
     "data": {
      "text/html": [
       "<div>\n",
       "<style scoped>\n",
       "    .dataframe tbody tr th:only-of-type {\n",
       "        vertical-align: middle;\n",
       "    }\n",
       "\n",
       "    .dataframe tbody tr th {\n",
       "        vertical-align: top;\n",
       "    }\n",
       "\n",
       "    .dataframe thead th {\n",
       "        text-align: right;\n",
       "    }\n",
       "</style>\n",
       "<table border=\"1\" class=\"dataframe\">\n",
       "  <thead>\n",
       "    <tr style=\"text-align: right;\">\n",
       "      <th></th>\n",
       "      <th>fit_time</th>\n",
       "      <th>score_time</th>\n",
       "      <th>test_balanced_accuracy</th>\n",
       "      <th>test_precision</th>\n",
       "      <th>test_recall</th>\n",
       "      <th>test_f1</th>\n",
       "      <th>test_log-loss</th>\n",
       "    </tr>\n",
       "  </thead>\n",
       "  <tbody>\n",
       "    <tr>\n",
       "      <th>Fold_1</th>\n",
       "      <td>53.556060</td>\n",
       "      <td>0.387863</td>\n",
       "      <td>0.997917</td>\n",
       "      <td>0.997033</td>\n",
       "      <td>0.995924</td>\n",
       "      <td>0.996478</td>\n",
       "      <td>0.007132</td>\n",
       "    </tr>\n",
       "    <tr>\n",
       "      <th>Fold_2</th>\n",
       "      <td>53.730955</td>\n",
       "      <td>0.369215</td>\n",
       "      <td>0.999192</td>\n",
       "      <td>0.995567</td>\n",
       "      <td>0.998518</td>\n",
       "      <td>0.997040</td>\n",
       "      <td>0.006006</td>\n",
       "    </tr>\n",
       "    <tr>\n",
       "      <th>Fold_3</th>\n",
       "      <td>53.754620</td>\n",
       "      <td>0.362644</td>\n",
       "      <td>0.999764</td>\n",
       "      <td>0.996677</td>\n",
       "      <td>0.999630</td>\n",
       "      <td>0.998151</td>\n",
       "      <td>0.003754</td>\n",
       "    </tr>\n",
       "    <tr>\n",
       "      <th>Fold_4</th>\n",
       "      <td>53.284731</td>\n",
       "      <td>0.425224</td>\n",
       "      <td>0.999225</td>\n",
       "      <td>0.997779</td>\n",
       "      <td>0.998518</td>\n",
       "      <td>0.998148</td>\n",
       "      <td>0.003754</td>\n",
       "    </tr>\n",
       "    <tr>\n",
       "      <th>Fold_5</th>\n",
       "      <td>53.614178</td>\n",
       "      <td>0.367992</td>\n",
       "      <td>0.998877</td>\n",
       "      <td>0.999258</td>\n",
       "      <td>0.997777</td>\n",
       "      <td>0.998517</td>\n",
       "      <td>0.003003</td>\n",
       "    </tr>\n",
       "  </tbody>\n",
       "</table>\n",
       "</div>"
      ],
      "text/plain": [
       "         fit_time  score_time  test_balanced_accuracy  test_precision  \\\n",
       "Fold_1  53.556060    0.387863                0.997917        0.997033   \n",
       "Fold_2  53.730955    0.369215                0.999192        0.995567   \n",
       "Fold_3  53.754620    0.362644                0.999764        0.996677   \n",
       "Fold_4  53.284731    0.425224                0.999225        0.997779   \n",
       "Fold_5  53.614178    0.367992                0.998877        0.999258   \n",
       "\n",
       "        test_recall   test_f1  test_log-loss  \n",
       "Fold_1     0.995924  0.996478       0.007132  \n",
       "Fold_2     0.998518  0.997040       0.006006  \n",
       "Fold_3     0.999630  0.998151       0.003754  \n",
       "Fold_4     0.998518  0.998148       0.003754  \n",
       "Fold_5     0.997777  0.998517       0.003003  "
      ]
     },
     "execution_count": 75,
     "metadata": {},
     "output_type": "execute_result"
    }
   ],
   "source": [
    "pd.DataFrame.from_dict(cv_xgboost_default).set_axis(['Fold_1', 'Fold_2', 'Fold_3', 'Fold_4', 'Fold_5'], axis=0)"
   ]
  },
  {
   "cell_type": "code",
   "execution_count": 76,
   "id": "1a2d7b89-6866-4c81-8a57-1927ad874d29",
   "metadata": {},
   "outputs": [
    {
     "data": {
      "text/html": [
       "<div>\n",
       "<style scoped>\n",
       "    .dataframe tbody tr th:only-of-type {\n",
       "        vertical-align: middle;\n",
       "    }\n",
       "\n",
       "    .dataframe tbody tr th {\n",
       "        vertical-align: top;\n",
       "    }\n",
       "\n",
       "    .dataframe thead th {\n",
       "        text-align: right;\n",
       "    }\n",
       "</style>\n",
       "<table border=\"1\" class=\"dataframe\">\n",
       "  <thead>\n",
       "    <tr style=\"text-align: right;\">\n",
       "      <th></th>\n",
       "      <th>Avg Fit Time</th>\n",
       "      <th>Avg Score Time</th>\n",
       "      <th>5-Fold Balanced Accuracy</th>\n",
       "      <th>5-Fold Precision</th>\n",
       "      <th>5-Fold Recall</th>\n",
       "      <th>5-Fold F1</th>\n",
       "      <th>5-Fold Log Loss</th>\n",
       "    </tr>\n",
       "  </thead>\n",
       "  <tbody>\n",
       "    <tr>\n",
       "      <th>XGBoost</th>\n",
       "      <td>53.588109</td>\n",
       "      <td>0.382588</td>\n",
       "      <td>0.998995</td>\n",
       "      <td>0.997263</td>\n",
       "      <td>0.998073</td>\n",
       "      <td>0.997667</td>\n",
       "      <td>0.00473</td>\n",
       "    </tr>\n",
       "  </tbody>\n",
       "</table>\n",
       "</div>"
      ],
      "text/plain": [
       "         Avg Fit Time  Avg Score Time  5-Fold Balanced Accuracy  \\\n",
       "XGBoost     53.588109        0.382588                  0.998995   \n",
       "\n",
       "         5-Fold Precision  5-Fold Recall  5-Fold F1  5-Fold Log Loss  \n",
       "XGBoost          0.997263       0.998073   0.997667          0.00473  "
      ]
     },
     "execution_count": 76,
     "metadata": {},
     "output_type": "execute_result"
    }
   ],
   "source": [
    "# Average of all folds\n",
    "metrics_xgb = pd.DataFrame.from_dict(cv_xgboost_default).set_axis(['Fold_1', 'Fold_2', 'Fold_3', 'Fold_4', 'Fold_5'], axis=0).mean(axis = 0)\n",
    "metrics_xgb = pd.DataFrame(metrics_xgb).set_axis(['Avg Fit Time', 'Avg Score Time', '5-Fold Balanced Accuracy', '5-Fold Precision', '5-Fold Recall', '5-Fold F1', '5-Fold Log Loss'], axis = 0).T.set_axis(['XGBoost'])\n",
    "metrics_xgb"
   ]
  },
  {
   "cell_type": "markdown",
   "id": "2f2034e4-b5bd-433b-99b7-4cbf7f0df798",
   "metadata": {},
   "source": [
    "### Tuning XGBoost with Bayesian Optimization"
   ]
  },
  {
   "cell_type": "markdown",
   "id": "34620ae1-7b73-439f-ab51-6e857acde964",
   "metadata": {},
   "source": [
    "After trying to tune the hyperparameters on all the training set, I quickly, or not so quickly, realised that it was extremely long. To remedy this, I decided to tune the hyperparameters on only 20% of the training data. This could be seen as the validation set. "
   ]
  },
  {
   "cell_type": "code",
   "execution_count": 22,
   "id": "25ba8b90-371f-4ec1-82c3-a8848b3d8b72",
   "metadata": {},
   "outputs": [],
   "source": [
    "# Splitting data into smaller training and testing set\n",
    "import math\n",
    "x_train_smaller = x_train.iloc[:math.floor(len(x_train)*0.2), :]\n",
    "y_train_smaller = y_train[:math.floor(len(x_train)*0.2)]"
   ]
  },
  {
   "cell_type": "markdown",
   "id": "5383ad26-104f-4edf-99ba-c4c6d0865e12",
   "metadata": {},
   "source": [
    "Lets make sure that there is still approximately 3% of anomalies in these datasets so that they are representative of our overall datasets and that our parameters are tuned accordingly."
   ]
  },
  {
   "cell_type": "code",
   "execution_count": 79,
   "id": "ad03cc64-5ef7-4734-806a-e7519d9cea0d",
   "metadata": {},
   "outputs": [
    {
     "name": "stdout",
     "output_type": "stream",
     "text": [
      "% of anomalies in smaller training set: 2.974\n"
     ]
    }
   ],
   "source": [
    "print(f\"% of anomalies in smaller training set: {np.round(np.mean(y_train_smaller)*100,3)}\")"
   ]
  },
  {
   "cell_type": "code",
   "execution_count": 23,
   "id": "33089354-00b1-476b-962a-5d34321c795e",
   "metadata": {},
   "outputs": [
    {
     "data": {
      "text/plain": [
       "92009"
      ]
     },
     "execution_count": 23,
     "metadata": {},
     "output_type": "execute_result"
    }
   ],
   "source": [
    "len(x_train_smaller)"
   ]
  },
  {
   "cell_type": "code",
   "execution_count": 81,
   "id": "649216f9-9dc8-4065-8486-07ee6e2a03f4",
   "metadata": {},
   "outputs": [
    {
     "name": "stdout",
     "output_type": "stream",
     "text": [
      "|   iter    |  target   |   gamma   | learni... | max_depth | n_esti... | subsample |\n",
      "-------------------------------------------------------------------------------------\n",
      "| \u001b[0m 1       \u001b[0m | \u001b[0m 0.9938  \u001b[0m | \u001b[0m 3.03    \u001b[0m | \u001b[0m 0.736   \u001b[0m | \u001b[0m 1.973   \u001b[0m | \u001b[0m 143.8   \u001b[0m | \u001b[0m 0.9994  \u001b[0m |\n",
      "| \u001b[95m 2       \u001b[0m | \u001b[95m 0.9947  \u001b[0m | \u001b[95m 0.6408  \u001b[0m | \u001b[95m 0.1872  \u001b[0m | \u001b[95m 6.27    \u001b[0m | \u001b[95m 248.6   \u001b[0m | \u001b[95m 0.9569  \u001b[0m |\n",
      "| \u001b[0m 3       \u001b[0m | \u001b[0m 0.9943  \u001b[0m | \u001b[0m 0.4845  \u001b[0m | \u001b[0m 0.06799 \u001b[0m | \u001b[0m 7.737   \u001b[0m | \u001b[0m 235.0   \u001b[0m | \u001b[0m 0.8173  \u001b[0m |\n",
      "| \u001b[0m 4       \u001b[0m | \u001b[0m 0.9938  \u001b[0m | \u001b[0m 2.806   \u001b[0m | \u001b[0m 0.6204  \u001b[0m | \u001b[0m 7.747   \u001b[0m | \u001b[0m 222.3   \u001b[0m | \u001b[0m 0.8742  \u001b[0m |\n",
      "| \u001b[0m 5       \u001b[0m | \u001b[0m 0.9938  \u001b[0m | \u001b[0m 2.261   \u001b[0m | \u001b[0m 0.2098  \u001b[0m | \u001b[0m 4.985   \u001b[0m | \u001b[0m 108.5   \u001b[0m | \u001b[0m 0.9167  \u001b[0m |\n",
      "| \u001b[0m 6       \u001b[0m | \u001b[0m 0.9938  \u001b[0m | \u001b[0m 2.382   \u001b[0m | \u001b[0m 0.5226  \u001b[0m | \u001b[0m 6.762   \u001b[0m | \u001b[0m 269.7   \u001b[0m | \u001b[0m 0.8138  \u001b[0m |\n",
      "| \u001b[0m 7       \u001b[0m | \u001b[0m 0.994   \u001b[0m | \u001b[0m 3.361   \u001b[0m | \u001b[0m 0.647   \u001b[0m | \u001b[0m 6.796   \u001b[0m | \u001b[0m 111.3   \u001b[0m | \u001b[0m 0.9235  \u001b[0m |\n",
      "| \u001b[0m 8       \u001b[0m | \u001b[0m 0.9936  \u001b[0m | \u001b[0m 3.089   \u001b[0m | \u001b[0m 0.3081  \u001b[0m | \u001b[0m 7.102   \u001b[0m | \u001b[0m 226.9   \u001b[0m | \u001b[0m 0.9964  \u001b[0m |\n",
      "| \u001b[0m 9       \u001b[0m | \u001b[0m 0.9938  \u001b[0m | \u001b[0m 2.211   \u001b[0m | \u001b[0m 0.1351  \u001b[0m | \u001b[0m 4.562   \u001b[0m | \u001b[0m 179.5   \u001b[0m | \u001b[0m 0.9832  \u001b[0m |\n",
      "| \u001b[0m 10      \u001b[0m | \u001b[0m 0.9942  \u001b[0m | \u001b[0m 3.545   \u001b[0m | \u001b[0m 0.8917  \u001b[0m | \u001b[0m 5.122   \u001b[0m | \u001b[0m 241.0   \u001b[0m | \u001b[0m 0.8684  \u001b[0m |\n",
      "| \u001b[0m 11      \u001b[0m | \u001b[0m 0.9943  \u001b[0m | \u001b[0m 4.119   \u001b[0m | \u001b[0m 0.3121  \u001b[0m | \u001b[0m 3.153   \u001b[0m | \u001b[0m 110.4   \u001b[0m | \u001b[0m 0.853   \u001b[0m |\n",
      "| \u001b[0m 12      \u001b[0m | \u001b[0m 0.9938  \u001b[0m | \u001b[0m 3.255   \u001b[0m | \u001b[0m 0.1631  \u001b[0m | \u001b[0m 3.721   \u001b[0m | \u001b[0m 244.3   \u001b[0m | \u001b[0m 0.9697  \u001b[0m |\n",
      "| \u001b[95m 13      \u001b[0m | \u001b[95m 0.9962  \u001b[0m | \u001b[95m 0.3192  \u001b[0m | \u001b[95m 0.4203  \u001b[0m | \u001b[95m 3.326   \u001b[0m | \u001b[95m 266.4   \u001b[0m | \u001b[95m 0.8948  \u001b[0m |\n",
      "| \u001b[0m 14      \u001b[0m | \u001b[0m 0.9938  \u001b[0m | \u001b[0m 3.993   \u001b[0m | \u001b[0m 0.09996 \u001b[0m | \u001b[0m 7.122   \u001b[0m | \u001b[0m 283.1   \u001b[0m | \u001b[0m 0.9543  \u001b[0m |\n",
      "| \u001b[0m 15      \u001b[0m | \u001b[0m 0.9952  \u001b[0m | \u001b[0m 0.3155  \u001b[0m | \u001b[0m 0.5985  \u001b[0m | \u001b[0m 6.547   \u001b[0m | \u001b[0m 132.2   \u001b[0m | \u001b[0m 0.8742  \u001b[0m |\n",
      "| \u001b[0m 16      \u001b[0m | \u001b[0m 0.994   \u001b[0m | \u001b[0m 4.266   \u001b[0m | \u001b[0m 0.6819  \u001b[0m | \u001b[0m 6.281   \u001b[0m | \u001b[0m 175.2   \u001b[0m | \u001b[0m 0.8642  \u001b[0m |\n",
      "| \u001b[0m 17      \u001b[0m | \u001b[0m 0.994   \u001b[0m | \u001b[0m 1.861   \u001b[0m | \u001b[0m 0.2826  \u001b[0m | \u001b[0m 5.757   \u001b[0m | \u001b[0m 224.5   \u001b[0m | \u001b[0m 0.994   \u001b[0m |\n",
      "| \u001b[0m 18      \u001b[0m | \u001b[0m 0.9936  \u001b[0m | \u001b[0m 2.078   \u001b[0m | \u001b[0m 0.3372  \u001b[0m | \u001b[0m 7.767   \u001b[0m | \u001b[0m 297.8   \u001b[0m | \u001b[0m 0.8611  \u001b[0m |\n",
      "| \u001b[0m 19      \u001b[0m | \u001b[0m 0.9936  \u001b[0m | \u001b[0m 4.116   \u001b[0m | \u001b[0m 0.5613  \u001b[0m | \u001b[0m 6.03    \u001b[0m | \u001b[0m 314.0   \u001b[0m | \u001b[0m 0.8992  \u001b[0m |\n",
      "| \u001b[0m 20      \u001b[0m | \u001b[0m 0.9942  \u001b[0m | \u001b[0m 2.56    \u001b[0m | \u001b[0m 0.6521  \u001b[0m | \u001b[0m 3.403   \u001b[0m | \u001b[0m 236.8   \u001b[0m | \u001b[0m 0.8929  \u001b[0m |\n",
      "| \u001b[0m 21      \u001b[0m | \u001b[0m 0.9947  \u001b[0m | \u001b[0m 0.7898  \u001b[0m | \u001b[0m 0.1486  \u001b[0m | \u001b[0m 2.485   \u001b[0m | \u001b[0m 266.1   \u001b[0m | \u001b[0m 0.8895  \u001b[0m |\n",
      "| \u001b[0m 22      \u001b[0m | \u001b[0m 0.9947  \u001b[0m | \u001b[0m 1.294   \u001b[0m | \u001b[0m 0.1978  \u001b[0m | \u001b[0m 3.721   \u001b[0m | \u001b[0m 267.1   \u001b[0m | \u001b[0m 0.842   \u001b[0m |\n",
      "| \u001b[0m 23      \u001b[0m | \u001b[0m 0.9951  \u001b[0m | \u001b[0m 0.2454  \u001b[0m | \u001b[0m 0.5022  \u001b[0m | \u001b[0m 3.234   \u001b[0m | \u001b[0m 266.4   \u001b[0m | \u001b[0m 0.9976  \u001b[0m |\n",
      "| \u001b[0m 24      \u001b[0m | \u001b[0m 0.9947  \u001b[0m | \u001b[0m 0.154   \u001b[0m | \u001b[0m 0.2014  \u001b[0m | \u001b[0m 6.376   \u001b[0m | \u001b[0m 132.2   \u001b[0m | \u001b[0m 0.9808  \u001b[0m |\n",
      "=====================================================================================\n",
      "It took 9.281789457798004 minutes to run\n"
     ]
    }
   ],
   "source": [
    "# will use f1 score to tune parameters \n",
    "from bayes_opt import BayesianOptimization\n",
    "import time\n",
    "\n",
    "def xgboost(max_depth, gamma, learning_rate, n_estimators, subsample):\n",
    "    params = {}\n",
    "    params['max_depth'] = round(max_depth) # must be integer\n",
    "    params['gamma'] = gamma\n",
    "    params['learning_rate'] = learning_rate\n",
    "    params['n_estimators'] = round(n_estimators) # must be integer\n",
    "    params['subsample'] = subsample\n",
    "    \n",
    "    model = XGBClassifier(random_state = 2021, **params, verbosity = 0)\n",
    "    scores = cross_val_score(model, x_train_smaller, y_train_smaller, scoring = 'f1' , cv = 5)\n",
    "    avg_score = scores.mean()\n",
    "    \n",
    "    return avg_score\n",
    "    \n",
    "# Run Bayesian Optimization\n",
    "\n",
    "start = time.time()\n",
    "\n",
    "params_xgb = {\n",
    "    'max_depth' : (1, 8),\n",
    "    'gamma' : (0, 5),\n",
    "    'learning_rate' : (0.01, 1),\n",
    "    'n_estimators' : (50, 350),\n",
    "    'subsample' : (0.8, 1)\n",
    "}\n",
    "\n",
    "xgb_tuned = BayesianOptimization(xgboost, params_xgb, random_state = 2021)\n",
    "xgb_tuned.maximize(init_points = 20, n_iter = 4)\n",
    "print(f'It took {(time.time() - start)/60} minutes to run')  "
   ]
  },
  {
   "cell_type": "code",
   "execution_count": 83,
   "id": "79c9fd09-6171-4926-ba32-6997ee230e17",
   "metadata": {},
   "outputs": [
    {
     "data": {
      "text/plain": [
       "{'gamma': 0.3191824943020566,\n",
       " 'learning_rate': 0.4202967664712142,\n",
       " 'max_depth': 3,\n",
       " 'n_estimators': 266,\n",
       " 'subsample': 0.8947694603357569}"
      ]
     },
     "execution_count": 83,
     "metadata": {},
     "output_type": "execute_result"
    }
   ],
   "source": [
    "params = xgb_tuned.max['params']\n",
    "params['max_depth'] = round(params['max_depth'])\n",
    "params['n_estimators'] = round(params['n_estimators'])\n",
    "params"
   ]
  },
  {
   "cell_type": "code",
   "execution_count": 69,
   "id": "b6cc1db1-59fb-4395-9f5b-7e389f1f30f6",
   "metadata": {},
   "outputs": [
    {
     "name": "stderr",
     "output_type": "stream",
     "text": [
      "[Parallel(n_jobs=-1)]: Using backend LokyBackend with 16 concurrent workers.\n",
      "[Parallel(n_jobs=-1)]: Done   5 out of   5 | elapsed:  1.5min finished\n"
     ]
    }
   ],
   "source": [
    "# Fitting cgboost with tuned parameters to have value of other metrics\n",
    "xgboost_tuned = XGBClassifier(random_state = 2021, \n",
    "                              gamma = 0.3191824943020566, \n",
    "                              learning_rate = 0.4202967664712142, \n",
    "                              max_depth = 3, \n",
    "                              n_estimators = 266, \n",
    "                              subsample = 0.8947694603357569,\n",
    "                              verbosity = 0)\n",
    "cv_xgboost_tuned = cross_validate(xgboost_tuned, X = x_train, y = y_train,scoring = metrics, n_jobs = -1, cv = 5, verbose = 1)"
   ]
  },
  {
   "cell_type": "code",
   "execution_count": 119,
   "id": "4c205462-d654-4829-a379-0f3a51ed3028",
   "metadata": {},
   "outputs": [],
   "source": [
    "# Variable importance\n",
    "xgboost_tuned.fit(x_train, y_train)\n",
    "importances_xgb = xgboost_tuned.feature_importances_"
   ]
  },
  {
   "cell_type": "code",
   "execution_count": 70,
   "id": "5d61c5e6-749f-463a-9a59-8079967c7539",
   "metadata": {},
   "outputs": [
    {
     "data": {
      "text/html": [
       "<div>\n",
       "<style scoped>\n",
       "    .dataframe tbody tr th:only-of-type {\n",
       "        vertical-align: middle;\n",
       "    }\n",
       "\n",
       "    .dataframe tbody tr th {\n",
       "        vertical-align: top;\n",
       "    }\n",
       "\n",
       "    .dataframe thead th {\n",
       "        text-align: right;\n",
       "    }\n",
       "</style>\n",
       "<table border=\"1\" class=\"dataframe\">\n",
       "  <thead>\n",
       "    <tr style=\"text-align: right;\">\n",
       "      <th></th>\n",
       "      <th>fit_time</th>\n",
       "      <th>score_time</th>\n",
       "      <th>test_balanced_accuracy</th>\n",
       "      <th>test_precision</th>\n",
       "      <th>test_recall</th>\n",
       "      <th>test_f1</th>\n",
       "      <th>test_log-loss</th>\n",
       "    </tr>\n",
       "  </thead>\n",
       "  <tbody>\n",
       "    <tr>\n",
       "      <th>Fold_1</th>\n",
       "      <td>85.494939</td>\n",
       "      <td>0.407091</td>\n",
       "      <td>0.998844</td>\n",
       "      <td>0.997038</td>\n",
       "      <td>0.997777</td>\n",
       "      <td>0.997407</td>\n",
       "      <td>0.005255</td>\n",
       "    </tr>\n",
       "    <tr>\n",
       "      <th>Fold_2</th>\n",
       "      <td>85.941021</td>\n",
       "      <td>0.378377</td>\n",
       "      <td>0.999192</td>\n",
       "      <td>0.995567</td>\n",
       "      <td>0.998518</td>\n",
       "      <td>0.997040</td>\n",
       "      <td>0.006006</td>\n",
       "    </tr>\n",
       "    <tr>\n",
       "      <th>Fold_3</th>\n",
       "      <td>86.758470</td>\n",
       "      <td>0.313494</td>\n",
       "      <td>0.999950</td>\n",
       "      <td>0.996678</td>\n",
       "      <td>1.000000</td>\n",
       "      <td>0.998336</td>\n",
       "      <td>0.003379</td>\n",
       "    </tr>\n",
       "    <tr>\n",
       "      <th>Fold_4</th>\n",
       "      <td>86.195027</td>\n",
       "      <td>0.353754</td>\n",
       "      <td>0.999411</td>\n",
       "      <td>0.997779</td>\n",
       "      <td>0.998888</td>\n",
       "      <td>0.998334</td>\n",
       "      <td>0.003379</td>\n",
       "    </tr>\n",
       "    <tr>\n",
       "      <th>Fold_5</th>\n",
       "      <td>86.001166</td>\n",
       "      <td>0.380626</td>\n",
       "      <td>0.998883</td>\n",
       "      <td>0.999629</td>\n",
       "      <td>0.997777</td>\n",
       "      <td>0.998702</td>\n",
       "      <td>0.002628</td>\n",
       "    </tr>\n",
       "  </tbody>\n",
       "</table>\n",
       "</div>"
      ],
      "text/plain": [
       "         fit_time  score_time  test_balanced_accuracy  test_precision  \\\n",
       "Fold_1  85.494939    0.407091                0.998844        0.997038   \n",
       "Fold_2  85.941021    0.378377                0.999192        0.995567   \n",
       "Fold_3  86.758470    0.313494                0.999950        0.996678   \n",
       "Fold_4  86.195027    0.353754                0.999411        0.997779   \n",
       "Fold_5  86.001166    0.380626                0.998883        0.999629   \n",
       "\n",
       "        test_recall   test_f1  test_log-loss  \n",
       "Fold_1     0.997777  0.997407       0.005255  \n",
       "Fold_2     0.998518  0.997040       0.006006  \n",
       "Fold_3     1.000000  0.998336       0.003379  \n",
       "Fold_4     0.998888  0.998334       0.003379  \n",
       "Fold_5     0.997777  0.998702       0.002628  "
      ]
     },
     "execution_count": 70,
     "metadata": {},
     "output_type": "execute_result"
    }
   ],
   "source": [
    "pd.DataFrame.from_dict(cv_xgboost_tuned).set_axis(['Fold_1', 'Fold_2', 'Fold_3', 'Fold_4', 'Fold_5'], axis=0)"
   ]
  },
  {
   "cell_type": "code",
   "execution_count": 71,
   "id": "b43c12bc-b979-47af-9239-ad6abfd22061",
   "metadata": {},
   "outputs": [
    {
     "data": {
      "text/html": [
       "<div>\n",
       "<style scoped>\n",
       "    .dataframe tbody tr th:only-of-type {\n",
       "        vertical-align: middle;\n",
       "    }\n",
       "\n",
       "    .dataframe tbody tr th {\n",
       "        vertical-align: top;\n",
       "    }\n",
       "\n",
       "    .dataframe thead th {\n",
       "        text-align: right;\n",
       "    }\n",
       "</style>\n",
       "<table border=\"1\" class=\"dataframe\">\n",
       "  <thead>\n",
       "    <tr style=\"text-align: right;\">\n",
       "      <th></th>\n",
       "      <th>Avg Fit Time</th>\n",
       "      <th>Avg Score Time</th>\n",
       "      <th>5-Fold Balanced Accuracy</th>\n",
       "      <th>5-Fold Precision</th>\n",
       "      <th>5-Fold Recall</th>\n",
       "      <th>5-Fold F1</th>\n",
       "      <th>5-Fold Log Loss</th>\n",
       "    </tr>\n",
       "  </thead>\n",
       "  <tbody>\n",
       "    <tr>\n",
       "      <th>XGBoost Tuned</th>\n",
       "      <td>86.078125</td>\n",
       "      <td>0.366669</td>\n",
       "      <td>0.999256</td>\n",
       "      <td>0.997338</td>\n",
       "      <td>0.998592</td>\n",
       "      <td>0.997964</td>\n",
       "      <td>0.004129</td>\n",
       "    </tr>\n",
       "  </tbody>\n",
       "</table>\n",
       "</div>"
      ],
      "text/plain": [
       "               Avg Fit Time  Avg Score Time  5-Fold Balanced Accuracy  \\\n",
       "XGBoost Tuned     86.078125        0.366669                  0.999256   \n",
       "\n",
       "               5-Fold Precision  5-Fold Recall  5-Fold F1  5-Fold Log Loss  \n",
       "XGBoost Tuned          0.997338       0.998592   0.997964         0.004129  "
      ]
     },
     "execution_count": 71,
     "metadata": {},
     "output_type": "execute_result"
    }
   ],
   "source": [
    "# Average of all folds\n",
    "metrics_xgb_tuned = pd.DataFrame.from_dict(cv_xgboost_tuned).set_axis(['Fold_1', 'Fold_2', 'Fold_3', 'Fold_4', 'Fold_5'], axis=0).mean(axis = 0)\n",
    "metrics_xgb_tuned = pd.DataFrame(metrics_xgb_tuned).set_axis(['Avg Fit Time', 'Avg Score Time', '5-Fold Balanced Accuracy', '5-Fold Precision', '5-Fold Recall', '5-Fold F1', '5-Fold Log Loss'], axis = 0).T.set_axis(['XGBoost Tuned'])\n",
    "metrics_xgb_tuned"
   ]
  },
  {
   "cell_type": "markdown",
   "id": "08872de6-2892-4c72-b909-08958a799704",
   "metadata": {},
   "source": [
    "# Comparision of Models"
   ]
  },
  {
   "cell_type": "code",
   "execution_count": 77,
   "id": "7f586917-a068-42c2-89a5-098fbc77f912",
   "metadata": {},
   "outputs": [
    {
     "data": {
      "text/html": [
       "<div>\n",
       "<style scoped>\n",
       "    .dataframe tbody tr th:only-of-type {\n",
       "        vertical-align: middle;\n",
       "    }\n",
       "\n",
       "    .dataframe tbody tr th {\n",
       "        vertical-align: top;\n",
       "    }\n",
       "\n",
       "    .dataframe thead th {\n",
       "        text-align: right;\n",
       "    }\n",
       "</style>\n",
       "<table border=\"1\" class=\"dataframe\">\n",
       "  <thead>\n",
       "    <tr style=\"text-align: right;\">\n",
       "      <th></th>\n",
       "      <th>Avg Fit Time</th>\n",
       "      <th>Avg Score Time</th>\n",
       "      <th>5-Fold Balanced Accuracy</th>\n",
       "      <th>5-Fold Precision</th>\n",
       "      <th>5-Fold Recall</th>\n",
       "      <th>5-Fold F1</th>\n",
       "      <th>5-Fold Log Loss</th>\n",
       "    </tr>\n",
       "  </thead>\n",
       "  <tbody>\n",
       "    <tr>\n",
       "      <th>Random Forest</th>\n",
       "      <td>16.987017</td>\n",
       "      <td>0.708142</td>\n",
       "      <td>0.999366</td>\n",
       "      <td>0.997265</td>\n",
       "      <td>0.998814</td>\n",
       "      <td>0.998038</td>\n",
       "      <td>0.003979</td>\n",
       "    </tr>\n",
       "    <tr>\n",
       "      <th>Random Forest Bootstrap Class Weighting</th>\n",
       "      <td>22.715056</td>\n",
       "      <td>0.728520</td>\n",
       "      <td>0.999440</td>\n",
       "      <td>0.997265</td>\n",
       "      <td>0.998963</td>\n",
       "      <td>0.998112</td>\n",
       "      <td>0.003829</td>\n",
       "    </tr>\n",
       "    <tr>\n",
       "      <th>Random Forest Tuned</th>\n",
       "      <td>16.501245</td>\n",
       "      <td>0.756640</td>\n",
       "      <td>0.999477</td>\n",
       "      <td>0.997265</td>\n",
       "      <td>0.999037</td>\n",
       "      <td>0.998150</td>\n",
       "      <td>0.003754</td>\n",
       "    </tr>\n",
       "    <tr>\n",
       "      <th>XGBoost</th>\n",
       "      <td>53.588109</td>\n",
       "      <td>0.382588</td>\n",
       "      <td>0.998995</td>\n",
       "      <td>0.997263</td>\n",
       "      <td>0.998073</td>\n",
       "      <td>0.997667</td>\n",
       "      <td>0.004730</td>\n",
       "    </tr>\n",
       "    <tr>\n",
       "      <th>XGBoost Tuned</th>\n",
       "      <td>86.078125</td>\n",
       "      <td>0.366669</td>\n",
       "      <td>0.999256</td>\n",
       "      <td>0.997338</td>\n",
       "      <td>0.998592</td>\n",
       "      <td>0.997964</td>\n",
       "      <td>0.004129</td>\n",
       "    </tr>\n",
       "  </tbody>\n",
       "</table>\n",
       "</div>"
      ],
      "text/plain": [
       "                                         Avg Fit Time  Avg Score Time  \\\n",
       "Random Forest                               16.987017        0.708142   \n",
       "Random Forest Bootstrap Class Weighting     22.715056        0.728520   \n",
       "Random Forest Tuned                         16.501245        0.756640   \n",
       "XGBoost                                     53.588109        0.382588   \n",
       "XGBoost Tuned                               86.078125        0.366669   \n",
       "\n",
       "                                         5-Fold Balanced Accuracy  \\\n",
       "Random Forest                                            0.999366   \n",
       "Random Forest Bootstrap Class Weighting                  0.999440   \n",
       "Random Forest Tuned                                      0.999477   \n",
       "XGBoost                                                  0.998995   \n",
       "XGBoost Tuned                                            0.999256   \n",
       "\n",
       "                                         5-Fold Precision  5-Fold Recall  \\\n",
       "Random Forest                                    0.997265       0.998814   \n",
       "Random Forest Bootstrap Class Weighting          0.997265       0.998963   \n",
       "Random Forest Tuned                              0.997265       0.999037   \n",
       "XGBoost                                          0.997263       0.998073   \n",
       "XGBoost Tuned                                    0.997338       0.998592   \n",
       "\n",
       "                                         5-Fold F1  5-Fold Log Loss  \n",
       "Random Forest                             0.998038         0.003979  \n",
       "Random Forest Bootstrap Class Weighting   0.998112         0.003829  \n",
       "Random Forest Tuned                       0.998150         0.003754  \n",
       "XGBoost                                   0.997667         0.004730  \n",
       "XGBoost Tuned                             0.997964         0.004129  "
      ]
     },
     "execution_count": 77,
     "metadata": {},
     "output_type": "execute_result"
    }
   ],
   "source": [
    "all_models = [metrics_rf_default, metrics_rf_bootstrap, metrics_rf_tuned, metrics_xgb, metrics_xgb_tuned]\n",
    "comparision_df = pd.concat(all_models)\n",
    "comparision_df"
   ]
  },
  {
   "cell_type": "code",
   "execution_count": 82,
   "id": "ed98b14f-f763-47b5-b959-33a150807741",
   "metadata": {},
   "outputs": [
    {
     "data": {
      "text/html": [
       "<div>\n",
       "<style scoped>\n",
       "    .dataframe tbody tr th:only-of-type {\n",
       "        vertical-align: middle;\n",
       "    }\n",
       "\n",
       "    .dataframe tbody tr th {\n",
       "        vertical-align: top;\n",
       "    }\n",
       "\n",
       "    .dataframe thead th {\n",
       "        text-align: right;\n",
       "    }\n",
       "</style>\n",
       "<table border=\"1\" class=\"dataframe\">\n",
       "  <thead>\n",
       "    <tr style=\"text-align: right;\">\n",
       "      <th></th>\n",
       "      <th>5-Fold Balanced Accuracy</th>\n",
       "      <th>5-Fold Precision</th>\n",
       "      <th>5-Fold Recall</th>\n",
       "      <th>5-Fold F1</th>\n",
       "      <th>5-Fold Log Loss</th>\n",
       "    </tr>\n",
       "  </thead>\n",
       "  <tbody>\n",
       "    <tr>\n",
       "      <th>Random Forest</th>\n",
       "      <td>0.999366</td>\n",
       "      <td>0.997265</td>\n",
       "      <td>0.998814</td>\n",
       "      <td>0.998038</td>\n",
       "      <td>0.003979</td>\n",
       "    </tr>\n",
       "    <tr>\n",
       "      <th>Random Forest Tuned</th>\n",
       "      <td>0.999477</td>\n",
       "      <td>0.997265</td>\n",
       "      <td>0.999037</td>\n",
       "      <td>0.998150</td>\n",
       "      <td>0.003754</td>\n",
       "    </tr>\n",
       "    <tr>\n",
       "      <th>XGBoost</th>\n",
       "      <td>0.998995</td>\n",
       "      <td>0.997263</td>\n",
       "      <td>0.998073</td>\n",
       "      <td>0.997667</td>\n",
       "      <td>0.004730</td>\n",
       "    </tr>\n",
       "    <tr>\n",
       "      <th>XGBoost Tuned</th>\n",
       "      <td>0.999256</td>\n",
       "      <td>0.997338</td>\n",
       "      <td>0.998592</td>\n",
       "      <td>0.997964</td>\n",
       "      <td>0.004129</td>\n",
       "    </tr>\n",
       "  </tbody>\n",
       "</table>\n",
       "</div>"
      ],
      "text/plain": [
       "                     5-Fold Balanced Accuracy  5-Fold Precision  \\\n",
       "Random Forest                        0.999366          0.997265   \n",
       "Random Forest Tuned                  0.999477          0.997265   \n",
       "XGBoost                              0.998995          0.997263   \n",
       "XGBoost Tuned                        0.999256          0.997338   \n",
       "\n",
       "                     5-Fold Recall  5-Fold F1  5-Fold Log Loss  \n",
       "Random Forest             0.998814   0.998038         0.003979  \n",
       "Random Forest Tuned       0.999037   0.998150         0.003754  \n",
       "XGBoost                   0.998073   0.997667         0.004730  \n",
       "XGBoost Tuned             0.998592   0.997964         0.004129  "
      ]
     },
     "execution_count": 82,
     "metadata": {},
     "output_type": "execute_result"
    }
   ],
   "source": [
    "comparision_df.drop([\"Avg Fit Time\", \"Avg Score Time\"], axis = 1).drop(['Random Forest Bootstrap Class Weighting'], axis = 0)"
   ]
  },
  {
   "cell_type": "markdown",
   "id": "79e6939e-3243-4777-9341-b67322c58f9d",
   "metadata": {},
   "source": [
    "# Evaluating best model on the testing set"
   ]
  },
  {
   "cell_type": "markdown",
   "id": "8731f93f-b92e-4088-a030-d5f1886b0cb5",
   "metadata": {},
   "source": [
    "Our best model on the training set, according to 5-Fold cross-validation, is the tuned Random Forest. It is worth mentioning that our tuned XGBoost has a slightly higher precision than that of the tuned random forest. We can thus also evaluate its performance on the testing set and compare it to that of the tuned random forest."
   ]
  },
  {
   "cell_type": "code",
   "execution_count": null,
   "id": "60da78dc-ab2e-49e2-bbfc-1d6e6a7aa946",
   "metadata": {},
   "outputs": [],
   "source": [
    "# Looking at variable importance for random forest"
   ]
  },
  {
   "cell_type": "code",
   "execution_count": 122,
   "id": "068ebcea-415c-4e80-93bf-94884194ebb6",
   "metadata": {},
   "outputs": [],
   "source": [
    "# Predict values using x_test for tuned rf\n",
    "rf_tuned = RandomForestClassifier(n_estimators = 100, \n",
    "                                  class_weight = None, \n",
    "                                  max_features = 'log2', \n",
    "                                  min_samples_split = 20, \n",
    "                                  random_state = 2021)\n",
    "rf_tuned.fit(x_train, y_train)\n",
    "predictions_rf_tuned = rf_tuned.predict(x_test)"
   ]
  },
  {
   "cell_type": "code",
   "execution_count": 125,
   "id": "221ca427-80b2-44b7-9970-c90cfe088409",
   "metadata": {},
   "outputs": [],
   "source": [
    "# Predict values using x_test for tuned xgboost\n",
    "xgboost_tuned.fit(x_train, y_train)\n",
    "predictions_xgb_tuned = xgboost_tuned.predict(x_test)"
   ]
  },
  {
   "cell_type": "markdown",
   "id": "39e2ac05-78bf-4ed8-8dde-a4cdc2b7d77e",
   "metadata": {},
   "source": [
    "### Metrics of performance on test set"
   ]
  },
  {
   "cell_type": "code",
   "execution_count": 136,
   "id": "eb50d8c8-7f1a-42b7-a882-8d29a3acb088",
   "metadata": {},
   "outputs": [
    {
     "data": {
      "text/html": [
       "<div>\n",
       "<style scoped>\n",
       "    .dataframe tbody tr th:only-of-type {\n",
       "        vertical-align: middle;\n",
       "    }\n",
       "\n",
       "    .dataframe tbody tr th {\n",
       "        vertical-align: top;\n",
       "    }\n",
       "\n",
       "    .dataframe thead th {\n",
       "        text-align: right;\n",
       "    }\n",
       "</style>\n",
       "<table border=\"1\" class=\"dataframe\">\n",
       "  <thead>\n",
       "    <tr style=\"text-align: right;\">\n",
       "      <th></th>\n",
       "      <th>Balanced Accuracy</th>\n",
       "      <th>Precision</th>\n",
       "      <th>Recall</th>\n",
       "      <th>F1 Score</th>\n",
       "      <th>Log Loss</th>\n",
       "    </tr>\n",
       "  </thead>\n",
       "  <tbody>\n",
       "    <tr>\n",
       "      <th>Tuned Random Forest</th>\n",
       "      <td>0.999960</td>\n",
       "      <td>0.997314</td>\n",
       "      <td>1.000000</td>\n",
       "      <td>0.998655</td>\n",
       "      <td>0.002703</td>\n",
       "    </tr>\n",
       "    <tr>\n",
       "      <th>Tuned XGBoost</th>\n",
       "      <td>0.999669</td>\n",
       "      <td>0.997909</td>\n",
       "      <td>0.999402</td>\n",
       "      <td>0.998655</td>\n",
       "      <td>0.002703</td>\n",
       "    </tr>\n",
       "  </tbody>\n",
       "</table>\n",
       "</div>"
      ],
      "text/plain": [
       "                     Balanced Accuracy  Precision    Recall  F1 Score  \\\n",
       "Tuned Random Forest           0.999960   0.997314  1.000000  0.998655   \n",
       "Tuned XGBoost                 0.999669   0.997909  0.999402  0.998655   \n",
       "\n",
       "                     Log Loss  \n",
       "Tuned Random Forest  0.002703  \n",
       "Tuned XGBoost        0.002703  "
      ]
     },
     "execution_count": 136,
     "metadata": {},
     "output_type": "execute_result"
    }
   ],
   "source": [
    "# Tuned Random Forest\n",
    "from sklearn import metrics\n",
    "test_metrics_rf = [metrics.balanced_accuracy_score(y_test, predictions_rf_tuned),\n",
    "                    metrics.precision_score(y_test, predictions_rf_tuned),\n",
    "                    metrics.recall_score(y_test, predictions_rf_tuned),\n",
    "                    metrics.f1_score(y_test, predictions_rf_tuned),\n",
    "                    metrics.log_loss(y_test, predictions_rf_tuned)]\n",
    "\n",
    "\n",
    "test_metrics_xgb = [metrics.balanced_accuracy_score(y_test, predictions_xgb_tuned),\n",
    "                    metrics.precision_score(y_test, predictions_xgb_tuned),\n",
    "                    metrics.recall_score(y_test, predictions_xgb_tuned),\n",
    "                    metrics.f1_score(y_test, predictions_xgb_tuned),\n",
    "                    metrics.log_loss(y_test, predictions_xgb_tuned)]\n",
    "\n",
    "overall_performance = pd.concat([pd.DataFrame(test_metrics_rf).T, pd.DataFrame(test_metrics_xgb).T])\n",
    "overall_performance.set_axis(['Balanced Accuracy', 'Precision', 'Recall', 'F1 Score', 'Log Loss'], axis = 1).set_axis(['Tuned Random Forest', 'Tuned XGBoost'], axis = 0)"
   ]
  },
  {
   "cell_type": "markdown",
   "id": "6047956a-9455-44f9-a7a0-fed514a092c2",
   "metadata": {},
   "source": [
    "### Variable Importance for Random Forest"
   ]
  },
  {
   "cell_type": "code",
   "execution_count": 115,
   "id": "b681f505-4e24-469e-a053-c8ad4d3822f2",
   "metadata": {},
   "outputs": [],
   "source": [
    "events = x.columns.array\n",
    "importance_df = pd.DataFrame([events, importances]).T.set_axis([\"Event\", \"Importance\"], axis = 1)\n",
    "top_10_important_events = importance_df.sort_values(by = ['Importance'], ascending = False)[0:10]\n",
    "top_10_important_events = top_10_important_events.sort_values(by = ['Importance'])"
   ]
  },
  {
   "cell_type": "code",
   "execution_count": 117,
   "id": "037943a4-772c-4a3c-baf1-548ffda936ce",
   "metadata": {},
   "outputs": [
    {
     "data": {
      "text/plain": [
       "<BarContainer object of 10 artists>"
      ]
     },
     "execution_count": 117,
     "metadata": {},
     "output_type": "execute_result"
    },
    {
     "data": {
      "image/png": "[encoded data removed]",
      "text/plain": [
       "<Figure size 432x288 with 1 Axes>"
      ]
     },
     "metadata": {
      "needs_background": "light"
     },
     "output_type": "display_data"
    }
   ],
   "source": [
    "from matplotlib import pyplot as plt\n",
    "plt.barh(top_10_important_events['Event'], top_10_important_events['Importance'])"
   ]
  },
  {
   "cell_type": "markdown",
   "id": "aca28d85-055b-42af-a2e5-998c053cfcf4",
   "metadata": {},
   "source": [
    "### Variable Importance for XGBoost"
   ]
  },
  {
   "cell_type": "code",
   "execution_count": 122,
   "id": "5b84c8b8-b24b-4090-b4f9-2c9246682bfa",
   "metadata": {},
   "outputs": [],
   "source": [
    "importance_xgb_df = pd.DataFrame([events, importances_xgb]).T.set_axis([\"Event\", \"Importance\"], axis = 1)\n",
    "top_10_important_events_xgb = importance_xgb_df.sort_values(by = ['Importance'], ascending = False)[0:10]\n",
    "top_10_important_events_xgb = top_10_important_events_xgb.sort_values(by = ['Importance'])"
   ]
  },
  {
   "cell_type": "code",
   "execution_count": 123,
   "id": "be1d4882-4acc-4eb6-81d2-4e78a381b55f",
   "metadata": {},
   "outputs": [
    {
     "data": {
      "text/plain": [
       "<BarContainer object of 10 artists>"
      ]
     },
     "execution_count": 123,
     "metadata": {},
     "output_type": "execute_result"
    },
    {
     "data": {
      "image/png": "[encoded data removed]",
      "text/plain": [
       "<Figure size 432x288 with 1 Axes>"
      ]
     },
     "metadata": {
      "needs_background": "light"
     },
     "output_type": "display_data"
    }
   ],
   "source": [
    "plt.barh(top_10_important_events_xgb['Event'], top_10_important_events['Importance'])"
   ]
  }
 ],
 "metadata": {
  "kernelspec": {
   "display_name": "Python 3 (ipykernel)",
   "language": "python",
   "name": "python3"
  },
  "language_info": {
   "codemirror_mode": {
    "name": "ipython",
    "version": 3
   },
   "file_extension": ".py",
   "mimetype": "text/x-python",
   "name": "python",
   "nbconvert_exporter": "python",
   "pygments_lexer": "ipython3",
   "version": "3.9.9"
  }
 },
 "nbformat": 4,
 "nbformat_minor": 5
}
