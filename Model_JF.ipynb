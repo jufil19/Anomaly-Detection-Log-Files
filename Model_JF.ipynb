{
 "cells": [
  {
   "cell_type": "code",
   "execution_count": 95,
   "id": "7e7e3698-2deb-4e1b-b589-14881355a744",
   "metadata": {},
   "outputs": [],
   "source": [
    "import sklearn\n",
    "import pandas as pd\n",
    "import numpy as np\n",
    "from sklearn.model_selection import train_test_split, cross_validate\n",
    "from sklearn.ensemble import RandomForestClassifier\n",
    "from sklearn import metrics"
   ]
  },
  {
   "cell_type": "code",
   "execution_count": 96,
   "id": "c5c7add9-1abf-4cc7-bc8b-0e8815f8a3e0",
   "metadata": {},
   "outputs": [],
   "source": [
    "data = pd.read_csv('eventmatrixlabel.csv')"
   ]
  },
  {
   "cell_type": "code",
   "execution_count": 97,
   "id": "abc00813-fae7-445c-b3f4-32610dc4ae62",
   "metadata": {},
   "outputs": [
    {
     "data": {
      "text/plain": [
       "(575061, 50)"
      ]
     },
     "execution_count": 97,
     "metadata": {},
     "output_type": "execute_result"
    }
   ],
   "source": [
    "data.shape"
   ]
  },
  {
   "cell_type": "code",
   "execution_count": 98,
   "id": "fc35e8ad-3748-47fa-a254-52bc0c708778",
   "metadata": {},
   "outputs": [],
   "source": [
    "# Changing Anomaly = 1, Normal = 0\n",
    "data['Label'] = pd.factorize(data['Label'])[0]"
   ]
  },
  {
   "cell_type": "code",
   "execution_count": 99,
   "id": "4cb9a106-3261-4bbf-bd23-bc83a8b34950",
   "metadata": {},
   "outputs": [
    {
     "data": {
      "text/plain": [
       "2.928"
      ]
     },
     "execution_count": 99,
     "metadata": {},
     "output_type": "execute_result"
    }
   ],
   "source": [
    "# Counting % of anomalies\n",
    "np.round(np.mean(data['Label']),5)*100"
   ]
  },
  {
   "cell_type": "markdown",
   "id": "745941e0-df43-47a3-a19b-85af791a46b8",
   "metadata": {},
   "source": [
    "Only 3% of our rows are Anomaly, we thus have a very unbalanced dataset. In order to take this into account, we must use appropriate metrics to evaluate the performance of our models. "
   ]
  },
  {
   "cell_type": "code",
   "execution_count": 100,
   "id": "cc8960d8-bcf9-4084-a037-447a92f40a0a",
   "metadata": {},
   "outputs": [],
   "source": [
    "# Keep in mind that accuracy will be high even if does not identify anomaly properly (because of unbalanced data)\n",
    "# true: Anomaly, false: Normal\n",
    "\n",
    "# precision : Of those predicted true, proportion that are  true\n",
    "# Recall/Sensitivity : Of actual trues, proportion predicted true\n",
    "# Specificity : Of actual falses, proportion predicted false --> not important to us\n",
    "\n",
    "metrics = {'balanced_accuracy': metrics.make_scorer(metrics.balanced_accuracy_score), \n",
    "           'precision': metrics.make_scorer(metrics.precision_score),\n",
    "          'recall' : metrics.make_scorer(metrics.recall_score),\n",
    "          'f1' : metrics.make_scorer(metrics.f1_score),\n",
    "          'log-loss' : metrics.make_scorer(metrics.log_loss)}"
   ]
  },
  {
   "cell_type": "code",
   "execution_count": 101,
   "id": "0c451964-5bf7-4629-a8e2-b9a194481893",
   "metadata": {},
   "outputs": [],
   "source": [
    "# Splitting the dependent and independent variables\n",
    "y = data[['Label']]\n",
    "x = data.drop(['Label', 'BlockId'], axis=1)"
   ]
  },
  {
   "cell_type": "code",
   "execution_count": 102,
   "id": "c469f72c-8c1b-49ec-be97-01564396fe70",
   "metadata": {},
   "outputs": [
    {
     "data": {
      "text/html": [
       "<div>\n",
       "<style scoped>\n",
       "    .dataframe tbody tr th:only-of-type {\n",
       "        vertical-align: middle;\n",
       "    }\n",
       "\n",
       "    .dataframe tbody tr th {\n",
       "        vertical-align: top;\n",
       "    }\n",
       "\n",
       "    .dataframe thead th {\n",
       "        text-align: right;\n",
       "    }\n",
       "</style>\n",
       "<table border=\"1\" class=\"dataframe\">\n",
       "  <thead>\n",
       "    <tr style=\"text-align: right;\">\n",
       "      <th></th>\n",
       "      <th>0567184d</th>\n",
       "      <th>06d16156</th>\n",
       "      <th>09a53393</th>\n",
       "      <th>0f86472a</th>\n",
       "      <th>124068c6</th>\n",
       "      <th>13eb7010</th>\n",
       "      <th>234302e6</th>\n",
       "      <th>2e68ccc3</th>\n",
       "      <th>2ecc047e</th>\n",
       "      <th>2f85639c</th>\n",
       "      <th>...</th>\n",
       "      <th>d63ef163</th>\n",
       "      <th>d6b7b743</th>\n",
       "      <th>dba996ef</th>\n",
       "      <th>e024fa48</th>\n",
       "      <th>e3df2680</th>\n",
       "      <th>f0d1ff15</th>\n",
       "      <th>f266840a</th>\n",
       "      <th>f79898ae</th>\n",
       "      <th>fcd37a6d</th>\n",
       "      <th>ff00cd08</th>\n",
       "    </tr>\n",
       "  </thead>\n",
       "  <tbody>\n",
       "    <tr>\n",
       "      <th>0</th>\n",
       "      <td>0.0</td>\n",
       "      <td>0.0</td>\n",
       "      <td>3.0</td>\n",
       "      <td>0.0</td>\n",
       "      <td>0.0</td>\n",
       "      <td>0.0</td>\n",
       "      <td>0.0</td>\n",
       "      <td>0.0</td>\n",
       "      <td>0.0</td>\n",
       "      <td>0.0</td>\n",
       "      <td>...</td>\n",
       "      <td>0.0</td>\n",
       "      <td>0.0</td>\n",
       "      <td>0.0</td>\n",
       "      <td>0.0</td>\n",
       "      <td>3.0</td>\n",
       "      <td>0.0</td>\n",
       "      <td>0.0</td>\n",
       "      <td>0.0</td>\n",
       "      <td>0.0</td>\n",
       "      <td>0.0</td>\n",
       "    </tr>\n",
       "    <tr>\n",
       "      <th>1</th>\n",
       "      <td>0.0</td>\n",
       "      <td>0.0</td>\n",
       "      <td>3.0</td>\n",
       "      <td>0.0</td>\n",
       "      <td>0.0</td>\n",
       "      <td>0.0</td>\n",
       "      <td>0.0</td>\n",
       "      <td>0.0</td>\n",
       "      <td>0.0</td>\n",
       "      <td>0.0</td>\n",
       "      <td>...</td>\n",
       "      <td>3.0</td>\n",
       "      <td>0.0</td>\n",
       "      <td>3.0</td>\n",
       "      <td>0.0</td>\n",
       "      <td>3.0</td>\n",
       "      <td>0.0</td>\n",
       "      <td>0.0</td>\n",
       "      <td>0.0</td>\n",
       "      <td>0.0</td>\n",
       "      <td>0.0</td>\n",
       "    </tr>\n",
       "    <tr>\n",
       "      <th>2</th>\n",
       "      <td>0.0</td>\n",
       "      <td>0.0</td>\n",
       "      <td>3.0</td>\n",
       "      <td>0.0</td>\n",
       "      <td>0.0</td>\n",
       "      <td>0.0</td>\n",
       "      <td>0.0</td>\n",
       "      <td>0.0</td>\n",
       "      <td>0.0</td>\n",
       "      <td>0.0</td>\n",
       "      <td>...</td>\n",
       "      <td>0.0</td>\n",
       "      <td>0.0</td>\n",
       "      <td>0.0</td>\n",
       "      <td>0.0</td>\n",
       "      <td>3.0</td>\n",
       "      <td>0.0</td>\n",
       "      <td>0.0</td>\n",
       "      <td>0.0</td>\n",
       "      <td>0.0</td>\n",
       "      <td>0.0</td>\n",
       "    </tr>\n",
       "    <tr>\n",
       "      <th>3</th>\n",
       "      <td>0.0</td>\n",
       "      <td>0.0</td>\n",
       "      <td>3.0</td>\n",
       "      <td>0.0</td>\n",
       "      <td>0.0</td>\n",
       "      <td>0.0</td>\n",
       "      <td>0.0</td>\n",
       "      <td>0.0</td>\n",
       "      <td>0.0</td>\n",
       "      <td>0.0</td>\n",
       "      <td>...</td>\n",
       "      <td>3.0</td>\n",
       "      <td>0.0</td>\n",
       "      <td>3.0</td>\n",
       "      <td>0.0</td>\n",
       "      <td>3.0</td>\n",
       "      <td>0.0</td>\n",
       "      <td>0.0</td>\n",
       "      <td>0.0</td>\n",
       "      <td>0.0</td>\n",
       "      <td>0.0</td>\n",
       "    </tr>\n",
       "    <tr>\n",
       "      <th>4</th>\n",
       "      <td>0.0</td>\n",
       "      <td>0.0</td>\n",
       "      <td>3.0</td>\n",
       "      <td>0.0</td>\n",
       "      <td>0.0</td>\n",
       "      <td>0.0</td>\n",
       "      <td>0.0</td>\n",
       "      <td>0.0</td>\n",
       "      <td>0.0</td>\n",
       "      <td>0.0</td>\n",
       "      <td>...</td>\n",
       "      <td>3.0</td>\n",
       "      <td>0.0</td>\n",
       "      <td>3.0</td>\n",
       "      <td>0.0</td>\n",
       "      <td>3.0</td>\n",
       "      <td>0.0</td>\n",
       "      <td>0.0</td>\n",
       "      <td>0.0</td>\n",
       "      <td>0.0</td>\n",
       "      <td>0.0</td>\n",
       "    </tr>\n",
       "  </tbody>\n",
       "</table>\n",
       "<p>5 rows × 48 columns</p>\n",
       "</div>"
      ],
      "text/plain": [
       "   0567184d  06d16156  09a53393  0f86472a  124068c6  13eb7010  234302e6  \\\n",
       "0       0.0       0.0       3.0       0.0       0.0       0.0       0.0   \n",
       "1       0.0       0.0       3.0       0.0       0.0       0.0       0.0   \n",
       "2       0.0       0.0       3.0       0.0       0.0       0.0       0.0   \n",
       "3       0.0       0.0       3.0       0.0       0.0       0.0       0.0   \n",
       "4       0.0       0.0       3.0       0.0       0.0       0.0       0.0   \n",
       "\n",
       "   2e68ccc3  2ecc047e  2f85639c  ...  d63ef163  d6b7b743  dba996ef  e024fa48  \\\n",
       "0       0.0       0.0       0.0  ...       0.0       0.0       0.0       0.0   \n",
       "1       0.0       0.0       0.0  ...       3.0       0.0       3.0       0.0   \n",
       "2       0.0       0.0       0.0  ...       0.0       0.0       0.0       0.0   \n",
       "3       0.0       0.0       0.0  ...       3.0       0.0       3.0       0.0   \n",
       "4       0.0       0.0       0.0  ...       3.0       0.0       3.0       0.0   \n",
       "\n",
       "   e3df2680  f0d1ff15  f266840a  f79898ae  fcd37a6d  ff00cd08  \n",
       "0       3.0       0.0       0.0       0.0       0.0       0.0  \n",
       "1       3.0       0.0       0.0       0.0       0.0       0.0  \n",
       "2       3.0       0.0       0.0       0.0       0.0       0.0  \n",
       "3       3.0       0.0       0.0       0.0       0.0       0.0  \n",
       "4       3.0       0.0       0.0       0.0       0.0       0.0  \n",
       "\n",
       "[5 rows x 48 columns]"
      ]
     },
     "execution_count": 102,
     "metadata": {},
     "output_type": "execute_result"
    }
   ],
   "source": [
    "x.head()"
   ]
  },
  {
   "cell_type": "code",
   "execution_count": 103,
   "id": "10e8156f-80d8-4869-baa7-b0ec35919409",
   "metadata": {},
   "outputs": [
    {
     "data": {
      "text/html": [
       "<div>\n",
       "<style scoped>\n",
       "    .dataframe tbody tr th:only-of-type {\n",
       "        vertical-align: middle;\n",
       "    }\n",
       "\n",
       "    .dataframe tbody tr th {\n",
       "        vertical-align: top;\n",
       "    }\n",
       "\n",
       "    .dataframe thead th {\n",
       "        text-align: right;\n",
       "    }\n",
       "</style>\n",
       "<table border=\"1\" class=\"dataframe\">\n",
       "  <thead>\n",
       "    <tr style=\"text-align: right;\">\n",
       "      <th></th>\n",
       "      <th>Label</th>\n",
       "    </tr>\n",
       "  </thead>\n",
       "  <tbody>\n",
       "    <tr>\n",
       "      <th>0</th>\n",
       "      <td>0</td>\n",
       "    </tr>\n",
       "    <tr>\n",
       "      <th>1</th>\n",
       "      <td>0</td>\n",
       "    </tr>\n",
       "    <tr>\n",
       "      <th>2</th>\n",
       "      <td>0</td>\n",
       "    </tr>\n",
       "    <tr>\n",
       "      <th>3</th>\n",
       "      <td>0</td>\n",
       "    </tr>\n",
       "    <tr>\n",
       "      <th>4</th>\n",
       "      <td>0</td>\n",
       "    </tr>\n",
       "  </tbody>\n",
       "</table>\n",
       "</div>"
      ],
      "text/plain": [
       "   Label\n",
       "0      0\n",
       "1      0\n",
       "2      0\n",
       "3      0\n",
       "4      0"
      ]
     },
     "execution_count": 103,
     "metadata": {},
     "output_type": "execute_result"
    }
   ],
   "source": [
    "y.head()"
   ]
  },
  {
   "cell_type": "code",
   "execution_count": 104,
   "id": "e92bf7cf-5bb6-48b3-8054-4b6be7f82501",
   "metadata": {},
   "outputs": [],
   "source": [
    "# Splitting data into training and testing set\n",
    "x_train, x_test, y_train, y_test = train_test_split(x, y, test_size=0.2, random_state = 2021)"
   ]
  },
  {
   "cell_type": "code",
   "execution_count": 105,
   "id": "702e582d-cb07-43b6-9aee-56c67a5cd11b",
   "metadata": {},
   "outputs": [
    {
     "name": "stdout",
     "output_type": "stream",
     "text": [
      "% of anomalies in training set: 2.934\n",
      "% of anomalies in testing set: 2.906\n"
     ]
    }
   ],
   "source": [
    "print(f\"% of anomalies in training set: {np.round(np.mean(y_train['Label'])*100,3)}\")\n",
    "print(f\"% of anomalies in testing set: {np.round(np.mean(y_test['Label'])*100,3)}\")"
   ]
  },
  {
   "cell_type": "markdown",
   "id": "e6d56785-2235-4a14-9c34-a7ba75eaee46",
   "metadata": {},
   "source": [
    "### Default Random Forest"
   ]
  },
  {
   "cell_type": "code",
   "execution_count": 106,
   "id": "56c71d48-4d89-45cd-b765-a09a949d45b1",
   "metadata": {},
   "outputs": [],
   "source": [
    "# Lets fit a rf with default parameters\n",
    "rf_default = RandomForestClassifier(random_state = 2021)"
   ]
  },
  {
   "cell_type": "code",
   "execution_count": 107,
   "id": "87111732-627c-45d6-9afc-605c19c4fb09",
   "metadata": {},
   "outputs": [
    {
     "name": "stderr",
     "output_type": "stream",
     "text": [
      "[Parallel(n_jobs=-1)]: Using backend LokyBackend with 16 concurrent workers.\n",
      "[Parallel(n_jobs=-1)]: Done   5 out of   5 | elapsed:   23.4s finished\n"
     ]
    }
   ],
   "source": [
    "# Define evaluation procedure\n",
    "cv_rf_default = cross_validate(rf_default, X = x_train, y = y_train,scoring = metrics, n_jobs = -1, cv = 5, verbose = 1)"
   ]
  },
  {
   "cell_type": "code",
   "execution_count": 108,
   "id": "561c7a3e-bb9b-45ad-ba6b-0c9c9819e005",
   "metadata": {},
   "outputs": [
    {
     "data": {
      "text/html": [
       "<div>\n",
       "<style scoped>\n",
       "    .dataframe tbody tr th:only-of-type {\n",
       "        vertical-align: middle;\n",
       "    }\n",
       "\n",
       "    .dataframe tbody tr th {\n",
       "        vertical-align: top;\n",
       "    }\n",
       "\n",
       "    .dataframe thead th {\n",
       "        text-align: right;\n",
       "    }\n",
       "</style>\n",
       "<table border=\"1\" class=\"dataframe\">\n",
       "  <thead>\n",
       "    <tr style=\"text-align: right;\">\n",
       "      <th></th>\n",
       "      <th>fit_time</th>\n",
       "      <th>score_time</th>\n",
       "      <th>test_balanced_accuracy</th>\n",
       "      <th>test_precision</th>\n",
       "      <th>test_recall</th>\n",
       "      <th>test_f1</th>\n",
       "      <th>test_log-loss</th>\n",
       "    </tr>\n",
       "  </thead>\n",
       "  <tbody>\n",
       "    <tr>\n",
       "      <th>Fold_1</th>\n",
       "      <td>21.208864</td>\n",
       "      <td>0.890105</td>\n",
       "      <td>0.998658</td>\n",
       "      <td>0.997037</td>\n",
       "      <td>0.997406</td>\n",
       "      <td>0.997222</td>\n",
       "      <td>0.005631</td>\n",
       "    </tr>\n",
       "    <tr>\n",
       "      <th>Fold_2</th>\n",
       "      <td>21.080899</td>\n",
       "      <td>0.935040</td>\n",
       "      <td>0.999371</td>\n",
       "      <td>0.995201</td>\n",
       "      <td>0.998888</td>\n",
       "      <td>0.997041</td>\n",
       "      <td>0.006006</td>\n",
       "    </tr>\n",
       "    <tr>\n",
       "      <th>Fold_3</th>\n",
       "      <td>20.350469</td>\n",
       "      <td>0.949460</td>\n",
       "      <td>0.999764</td>\n",
       "      <td>0.996677</td>\n",
       "      <td>0.999630</td>\n",
       "      <td>0.998151</td>\n",
       "      <td>0.003754</td>\n",
       "    </tr>\n",
       "    <tr>\n",
       "      <th>Fold_4</th>\n",
       "      <td>20.586932</td>\n",
       "      <td>0.977003</td>\n",
       "      <td>0.999225</td>\n",
       "      <td>0.997779</td>\n",
       "      <td>0.998518</td>\n",
       "      <td>0.998148</td>\n",
       "      <td>0.003754</td>\n",
       "    </tr>\n",
       "    <tr>\n",
       "      <th>Fold_5</th>\n",
       "      <td>20.669930</td>\n",
       "      <td>0.883990</td>\n",
       "      <td>0.999809</td>\n",
       "      <td>0.999629</td>\n",
       "      <td>0.999629</td>\n",
       "      <td>0.999629</td>\n",
       "      <td>0.000751</td>\n",
       "    </tr>\n",
       "  </tbody>\n",
       "</table>\n",
       "</div>"
      ],
      "text/plain": [
       "         fit_time  score_time  test_balanced_accuracy  test_precision  \\\n",
       "Fold_1  21.208864    0.890105                0.998658        0.997037   \n",
       "Fold_2  21.080899    0.935040                0.999371        0.995201   \n",
       "Fold_3  20.350469    0.949460                0.999764        0.996677   \n",
       "Fold_4  20.586932    0.977003                0.999225        0.997779   \n",
       "Fold_5  20.669930    0.883990                0.999809        0.999629   \n",
       "\n",
       "        test_recall   test_f1  test_log-loss  \n",
       "Fold_1     0.997406  0.997222       0.005631  \n",
       "Fold_2     0.998888  0.997041       0.006006  \n",
       "Fold_3     0.999630  0.998151       0.003754  \n",
       "Fold_4     0.998518  0.998148       0.003754  \n",
       "Fold_5     0.999629  0.999629       0.000751  "
      ]
     },
     "execution_count": 108,
     "metadata": {},
     "output_type": "execute_result"
    }
   ],
   "source": [
    "pd.DataFrame.from_dict(cv_rf_default).set_axis(['Fold_1', 'Fold_2', 'Fold_3', 'Fold_4', 'Fold_5'], axis=0)"
   ]
  },
  {
   "cell_type": "code",
   "execution_count": 109,
   "id": "6d703db7-ddf4-4e57-abd4-8527e1a4b9c7",
   "metadata": {},
   "outputs": [
    {
     "data": {
      "text/plain": [
       "fit_time                  20.779419\n",
       "score_time                 0.927119\n",
       "test_balanced_accuracy     0.999366\n",
       "test_precision             0.997265\n",
       "test_recall                0.998814\n",
       "test_f1                    0.998038\n",
       "test_log-loss              0.003979\n",
       "dtype: float64"
      ]
     },
     "execution_count": 109,
     "metadata": {},
     "output_type": "execute_result"
    }
   ],
   "source": [
    "# Average of all folds\n",
    "pd.DataFrame.from_dict(cv_rf_default).set_axis(['Fold_1', 'Fold_2', 'Fold_3', 'Fold_4', 'Fold_5'], axis=0).mean(axis = 0)"
   ]
  },
  {
   "cell_type": "markdown",
   "id": "e050edd3-5724-495d-a4af-012cb58684b2",
   "metadata": {},
   "source": [
    "### Random Forest with Bootstrap Class Weighting"
   ]
  },
  {
   "cell_type": "code",
   "execution_count": 82,
   "id": "8e96aa32-2601-4f83-92c2-22437dca1596",
   "metadata": {},
   "outputs": [],
   "source": [
    "# Lets place a heavier penalty on misclassifying the minority class - Anomaly, using Random Forest With Bootstrap Class Weighting\n",
    "rf = RandomForestClassifier(n_estimators = 100, class_weight='balanced_subsample', random_state = 2021)"
   ]
  },
  {
   "cell_type": "code",
   "execution_count": 83,
   "id": "d0e3eeb5-b3e4-4a25-ac68-57d160e38201",
   "metadata": {},
   "outputs": [
    {
     "name": "stderr",
     "output_type": "stream",
     "text": [
      "[Parallel(n_jobs=-1)]: Using backend LokyBackend with 16 concurrent workers.\n",
      "[Parallel(n_jobs=-1)]: Done   5 out of   5 | elapsed:   33.3s finished\n"
     ]
    }
   ],
   "source": [
    "# Define evaluation procedure\n",
    "cv_rf = cross_validate(rf, X = x_train, y = y_train,scoring = metrics, n_jobs = -1, cv = 5, verbose = 1)"
   ]
  },
  {
   "cell_type": "code",
   "execution_count": 88,
   "id": "d6b6dee0-60ad-4d24-a9de-cd28e19383ad",
   "metadata": {},
   "outputs": [
    {
     "data": {
      "text/html": [
       "<div>\n",
       "<style scoped>\n",
       "    .dataframe tbody tr th:only-of-type {\n",
       "        vertical-align: middle;\n",
       "    }\n",
       "\n",
       "    .dataframe tbody tr th {\n",
       "        vertical-align: top;\n",
       "    }\n",
       "\n",
       "    .dataframe thead th {\n",
       "        text-align: right;\n",
       "    }\n",
       "</style>\n",
       "<table border=\"1\" class=\"dataframe\">\n",
       "  <thead>\n",
       "    <tr style=\"text-align: right;\">\n",
       "      <th></th>\n",
       "      <th>fit_time</th>\n",
       "      <th>score_time</th>\n",
       "      <th>test_balanced_accuracy</th>\n",
       "      <th>test_precision</th>\n",
       "      <th>test_recall</th>\n",
       "      <th>test_f1</th>\n",
       "      <th>test_log-loss</th>\n",
       "    </tr>\n",
       "  </thead>\n",
       "  <tbody>\n",
       "    <tr>\n",
       "      <th>Fold_1</th>\n",
       "      <td>30.957188</td>\n",
       "      <td>0.893914</td>\n",
       "      <td>0.998658</td>\n",
       "      <td>0.997037</td>\n",
       "      <td>0.997406</td>\n",
       "      <td>0.997222</td>\n",
       "      <td>0.005631</td>\n",
       "    </tr>\n",
       "    <tr>\n",
       "      <th>Fold_2</th>\n",
       "      <td>30.527564</td>\n",
       "      <td>1.068531</td>\n",
       "      <td>0.999371</td>\n",
       "      <td>0.995201</td>\n",
       "      <td>0.998888</td>\n",
       "      <td>0.997041</td>\n",
       "      <td>0.006006</td>\n",
       "    </tr>\n",
       "    <tr>\n",
       "      <th>Fold_3</th>\n",
       "      <td>30.790190</td>\n",
       "      <td>0.971906</td>\n",
       "      <td>0.999955</td>\n",
       "      <td>0.997046</td>\n",
       "      <td>1.000000</td>\n",
       "      <td>0.998521</td>\n",
       "      <td>0.003003</td>\n",
       "    </tr>\n",
       "    <tr>\n",
       "      <th>Fold_4</th>\n",
       "      <td>30.607480</td>\n",
       "      <td>1.021530</td>\n",
       "      <td>0.999405</td>\n",
       "      <td>0.997410</td>\n",
       "      <td>0.998888</td>\n",
       "      <td>0.998149</td>\n",
       "      <td>0.003754</td>\n",
       "    </tr>\n",
       "    <tr>\n",
       "      <th>Fold_5</th>\n",
       "      <td>30.854199</td>\n",
       "      <td>0.944896</td>\n",
       "      <td>0.999809</td>\n",
       "      <td>0.999629</td>\n",
       "      <td>0.999629</td>\n",
       "      <td>0.999629</td>\n",
       "      <td>0.000751</td>\n",
       "    </tr>\n",
       "  </tbody>\n",
       "</table>\n",
       "</div>"
      ],
      "text/plain": [
       "         fit_time  score_time  test_balanced_accuracy  test_precision  \\\n",
       "Fold_1  30.957188    0.893914                0.998658        0.997037   \n",
       "Fold_2  30.527564    1.068531                0.999371        0.995201   \n",
       "Fold_3  30.790190    0.971906                0.999955        0.997046   \n",
       "Fold_4  30.607480    1.021530                0.999405        0.997410   \n",
       "Fold_5  30.854199    0.944896                0.999809        0.999629   \n",
       "\n",
       "        test_recall   test_f1  test_log-loss  \n",
       "Fold_1     0.997406  0.997222       0.005631  \n",
       "Fold_2     0.998888  0.997041       0.006006  \n",
       "Fold_3     1.000000  0.998521       0.003003  \n",
       "Fold_4     0.998888  0.998149       0.003754  \n",
       "Fold_5     0.999629  0.999629       0.000751  "
      ]
     },
     "execution_count": 88,
     "metadata": {},
     "output_type": "execute_result"
    }
   ],
   "source": [
    "pd.DataFrame.from_dict(cv_rf).set_axis(['Fold_1', 'Fold_2', 'Fold_3', 'Fold_4', 'Fold_5'], axis=0)"
   ]
  },
  {
   "cell_type": "code",
   "execution_count": 89,
   "id": "eacb78c6-faf9-484b-9ec2-83051d121a22",
   "metadata": {},
   "outputs": [
    {
     "data": {
      "text/plain": [
       "fit_time                  30.747324\n",
       "score_time                 0.980155\n",
       "test_balanced_accuracy     0.999440\n",
       "test_precision             0.997265\n",
       "test_recall                0.998963\n",
       "test_f1                    0.998112\n",
       "test_log-loss              0.003829\n",
       "dtype: float64"
      ]
     },
     "execution_count": 89,
     "metadata": {},
     "output_type": "execute_result"
    }
   ],
   "source": [
    "# Average of all folds\n",
    "pd.DataFrame.from_dict(cv_rf).set_axis(['Fold_1', 'Fold_2', 'Fold_3', 'Fold_4', 'Fold_5'], axis=0).mean(axis = 0)"
   ]
  },
  {
   "cell_type": "markdown",
   "id": "5b937afc-a00a-4287-93b0-07cdc8733e9b",
   "metadata": {},
   "source": [
    "## Reference\n",
    "https://machinelearningmastery.com/bagging-and-random-forest-for-imbalanced-classification/"
   ]
  },
  {
   "cell_type": "code",
   "execution_count": null,
   "id": "648d2ae1-b61d-41ec-91d6-428b1fb8e090",
   "metadata": {},
   "outputs": [],
   "source": []
  }
 ],
 "metadata": {
  "kernelspec": {
   "display_name": "Python 3 (ipykernel)",
   "language": "python",
   "name": "python3"
  },
  "language_info": {
   "codemirror_mode": {
    "name": "ipython",
    "version": 3
   },
   "file_extension": ".py",
   "mimetype": "text/x-python",
   "name": "python",
   "nbconvert_exporter": "python",
   "pygments_lexer": "ipython3",
   "version": "3.9.5"
  }
 },
 "nbformat": 4,
 "nbformat_minor": 5
}
